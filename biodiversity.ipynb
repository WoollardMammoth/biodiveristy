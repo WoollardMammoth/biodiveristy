{
 "cells": [
  {
   "cell_type": "markdown",
   "metadata": {},
   "source": [
    "# Endangered Species in US National Parks\n",
    "\n",
    "Here are a few questions that this project will seek to answer:\n",
    "\n",
    "- What is the distribution of conservation status for each category of species?\n",
    "- Are certain types of species more likely to be placed under conservation statuses than others?\n",
    "- Which parks have the greatest abundance of life?\n",
    "- Is there a relationship between the abundance of plants and the abundance of animals in national parks?"
   ]
  },
  {
   "cell_type": "markdown",
   "metadata": {},
   "source": [
    "## Loading the Data\n",
    "There are two separate CSV files:\n",
    "+ species_info.csv\n",
    "    + Contains data about different species and their conservation status. \n",
    "+ observations.csv\n",
    "    + Holds recorded sightings of different species at several national parks for the past 7 days.\n",
    "\n",
    "Using Pandas, each of these will be loaded into a dataframe for examination and initial exploration."
   ]
  },
  {
   "cell_type": "code",
   "execution_count": 1,
   "metadata": {},
   "outputs": [],
   "source": [
    "import pandas as pd\n",
    "\n",
    "species = pd.read_csv(\"species_info.csv\")\n",
    "observations = pd.read_csv(\"observations.csv\")"
   ]
  },
  {
   "cell_type": "code",
   "execution_count": 2,
   "metadata": {},
   "outputs": [
    {
     "data": {
      "text/html": [
       "<div>\n",
       "<style scoped>\n",
       "    .dataframe tbody tr th:only-of-type {\n",
       "        vertical-align: middle;\n",
       "    }\n",
       "\n",
       "    .dataframe tbody tr th {\n",
       "        vertical-align: top;\n",
       "    }\n",
       "\n",
       "    .dataframe thead th {\n",
       "        text-align: right;\n",
       "    }\n",
       "</style>\n",
       "<table border=\"1\" class=\"dataframe\">\n",
       "  <thead>\n",
       "    <tr style=\"text-align: right;\">\n",
       "      <th></th>\n",
       "      <th>category</th>\n",
       "      <th>scientific_name</th>\n",
       "      <th>common_names</th>\n",
       "      <th>conservation_status</th>\n",
       "    </tr>\n",
       "  </thead>\n",
       "  <tbody>\n",
       "    <tr>\n",
       "      <th>0</th>\n",
       "      <td>Mammal</td>\n",
       "      <td>Clethrionomys gapperi gapperi</td>\n",
       "      <td>Gapper's Red-Backed Vole</td>\n",
       "      <td>NaN</td>\n",
       "    </tr>\n",
       "    <tr>\n",
       "      <th>1</th>\n",
       "      <td>Mammal</td>\n",
       "      <td>Bos bison</td>\n",
       "      <td>American Bison, Bison</td>\n",
       "      <td>NaN</td>\n",
       "    </tr>\n",
       "    <tr>\n",
       "      <th>2</th>\n",
       "      <td>Mammal</td>\n",
       "      <td>Bos taurus</td>\n",
       "      <td>Aurochs, Aurochs, Domestic Cattle (Feral), Dom...</td>\n",
       "      <td>NaN</td>\n",
       "    </tr>\n",
       "    <tr>\n",
       "      <th>3</th>\n",
       "      <td>Mammal</td>\n",
       "      <td>Ovis aries</td>\n",
       "      <td>Domestic Sheep, Mouflon, Red Sheep, Sheep (Feral)</td>\n",
       "      <td>NaN</td>\n",
       "    </tr>\n",
       "    <tr>\n",
       "      <th>4</th>\n",
       "      <td>Mammal</td>\n",
       "      <td>Cervus elaphus</td>\n",
       "      <td>Wapiti Or Elk</td>\n",
       "      <td>NaN</td>\n",
       "    </tr>\n",
       "  </tbody>\n",
       "</table>\n",
       "</div>"
      ],
      "text/plain": [
       "  category                scientific_name  \\\n",
       "0   Mammal  Clethrionomys gapperi gapperi   \n",
       "1   Mammal                      Bos bison   \n",
       "2   Mammal                     Bos taurus   \n",
       "3   Mammal                     Ovis aries   \n",
       "4   Mammal                 Cervus elaphus   \n",
       "\n",
       "                                        common_names conservation_status  \n",
       "0                           Gapper's Red-Backed Vole                 NaN  \n",
       "1                              American Bison, Bison                 NaN  \n",
       "2  Aurochs, Aurochs, Domestic Cattle (Feral), Dom...                 NaN  \n",
       "3  Domestic Sheep, Mouflon, Red Sheep, Sheep (Feral)                 NaN  \n",
       "4                                      Wapiti Or Elk                 NaN  "
      ]
     },
     "execution_count": 2,
     "metadata": {},
     "output_type": "execute_result"
    }
   ],
   "source": [
    "species.head()"
   ]
  },
  {
   "cell_type": "markdown",
   "metadata": {},
   "source": [
    "The ***species*** dataframe contains the following columns:\n",
    "+ **category** - class of animal\n",
    "+ **scientific_name** - the scientific name of each species\n",
    "+ **common_name** - the common names of each species\n",
    "+ **conservation_status** - each species’ current conservation status\n"
   ]
  },
  {
   "cell_type": "code",
   "execution_count": 3,
   "metadata": {},
   "outputs": [
    {
     "data": {
      "text/html": [
       "<div>\n",
       "<style scoped>\n",
       "    .dataframe tbody tr th:only-of-type {\n",
       "        vertical-align: middle;\n",
       "    }\n",
       "\n",
       "    .dataframe tbody tr th {\n",
       "        vertical-align: top;\n",
       "    }\n",
       "\n",
       "    .dataframe thead th {\n",
       "        text-align: right;\n",
       "    }\n",
       "</style>\n",
       "<table border=\"1\" class=\"dataframe\">\n",
       "  <thead>\n",
       "    <tr style=\"text-align: right;\">\n",
       "      <th></th>\n",
       "      <th>scientific_name</th>\n",
       "      <th>park_name</th>\n",
       "      <th>observations</th>\n",
       "    </tr>\n",
       "  </thead>\n",
       "  <tbody>\n",
       "    <tr>\n",
       "      <th>0</th>\n",
       "      <td>Vicia benghalensis</td>\n",
       "      <td>Great Smoky Mountains National Park</td>\n",
       "      <td>68</td>\n",
       "    </tr>\n",
       "    <tr>\n",
       "      <th>1</th>\n",
       "      <td>Neovison vison</td>\n",
       "      <td>Great Smoky Mountains National Park</td>\n",
       "      <td>77</td>\n",
       "    </tr>\n",
       "    <tr>\n",
       "      <th>2</th>\n",
       "      <td>Prunus subcordata</td>\n",
       "      <td>Yosemite National Park</td>\n",
       "      <td>138</td>\n",
       "    </tr>\n",
       "    <tr>\n",
       "      <th>3</th>\n",
       "      <td>Abutilon theophrasti</td>\n",
       "      <td>Bryce National Park</td>\n",
       "      <td>84</td>\n",
       "    </tr>\n",
       "    <tr>\n",
       "      <th>4</th>\n",
       "      <td>Githopsis specularioides</td>\n",
       "      <td>Great Smoky Mountains National Park</td>\n",
       "      <td>85</td>\n",
       "    </tr>\n",
       "  </tbody>\n",
       "</table>\n",
       "</div>"
      ],
      "text/plain": [
       "            scientific_name                            park_name  observations\n",
       "0        Vicia benghalensis  Great Smoky Mountains National Park            68\n",
       "1            Neovison vison  Great Smoky Mountains National Park            77\n",
       "2         Prunus subcordata               Yosemite National Park           138\n",
       "3      Abutilon theophrasti                  Bryce National Park            84\n",
       "4  Githopsis specularioides  Great Smoky Mountains National Park            85"
      ]
     },
     "execution_count": 3,
     "metadata": {},
     "output_type": "execute_result"
    }
   ],
   "source": [
    "observations.head()"
   ]
  },
  {
   "cell_type": "markdown",
   "metadata": {},
   "source": [
    "The ***observations*** dataframe contains the following columns:\n",
    "+ **scientific_name** - the scientific name of each species\n",
    "+ **park name** - Park where species were found\n",
    "+ **observations** - the number of times each species was observed at park"
   ]
  },
  {
   "cell_type": "markdown",
   "metadata": {
    "jp-MarkdownHeadingCollapsed": true
   },
   "source": [
    "## Exploring and Cleaning the Data\n",
    "Let's get a feel for what kind of data we are working with, and the state of that data. To clean this data I will be checking each dataframe for\n",
    "+ missing data\n",
    "+ duplicated data\n",
    "\n",
    "Depending on what is missing or duplicated, I will be handiling that in a variety of ways."
   ]
  },
  {
   "cell_type": "markdown",
   "metadata": {
    "jp-MarkdownHeadingCollapsed": true
   },
   "source": [
    "### Species\n",
    "Let's start by observing the state of the values in the **species** dataframe."
   ]
  },
  {
   "cell_type": "code",
   "execution_count": 4,
   "metadata": {},
   "outputs": [
    {
     "name": "stdout",
     "output_type": "stream",
     "text": [
      "<class 'pandas.core.frame.DataFrame'>\n",
      "RangeIndex: 5824 entries, 0 to 5823\n",
      "Data columns (total 4 columns):\n",
      " #   Column               Non-Null Count  Dtype \n",
      "---  ------               --------------  ----- \n",
      " 0   category             5824 non-null   object\n",
      " 1   scientific_name      5824 non-null   object\n",
      " 2   common_names         5824 non-null   object\n",
      " 3   conservation_status  191 non-null    object\n",
      "dtypes: object(4)\n",
      "memory usage: 182.1+ KB\n"
     ]
    }
   ],
   "source": [
    "species.info()"
   ]
  },
  {
   "cell_type": "code",
   "execution_count": 5,
   "metadata": {},
   "outputs": [
    {
     "data": {
      "text/plain": [
       "array([nan, 'Species of Concern', 'Endangered', 'Threatened',\n",
       "       'In Recovery'], dtype=object)"
      ]
     },
     "execution_count": 5,
     "metadata": {},
     "output_type": "execute_result"
    }
   ],
   "source": [
    "species.conservation_status.unique()"
   ]
  },
  {
   "cell_type": "markdown",
   "metadata": {},
   "source": [
    "The only outright null data in species is contained in the **conservation_status** column, where 96.7% of the data is null. Based the unique values in this column, each appears to be a descriptive term to indicate the level of threat a species is classified under. I will be making the assumption that the null values in this column are structurally missing to communicate that the species are of no concern, as naturally, the majority of species are. To more clearly communicate this, the null values will be replaced with 'Non-Concern'."
   ]
  },
  {
   "cell_type": "code",
   "execution_count": 6,
   "metadata": {},
   "outputs": [
    {
     "name": "stdout",
     "output_type": "stream",
     "text": [
      "<class 'pandas.core.frame.DataFrame'>\n",
      "RangeIndex: 5824 entries, 0 to 5823\n",
      "Data columns (total 4 columns):\n",
      " #   Column               Non-Null Count  Dtype \n",
      "---  ------               --------------  ----- \n",
      " 0   category             5824 non-null   object\n",
      " 1   scientific_name      5824 non-null   object\n",
      " 2   common_names         5824 non-null   object\n",
      " 3   conservation_status  5824 non-null   object\n",
      "dtypes: object(4)\n",
      "memory usage: 182.1+ KB\n"
     ]
    }
   ],
   "source": [
    "species.conservation_status.fillna(\"Non-Concern\", inplace=True)\n",
    "species.info()"
   ]
  },
  {
   "cell_type": "code",
   "execution_count": 7,
   "metadata": {},
   "outputs": [
    {
     "data": {
      "text/plain": [
       "array(['Mammal', 'Bird', 'Reptile', 'Amphibian', 'Fish', 'Vascular Plant',\n",
       "       'Nonvascular Plant'], dtype=object)"
      ]
     },
     "execution_count": 7,
     "metadata": {},
     "output_type": "execute_result"
    }
   ],
   "source": [
    "species.category.unique()"
   ]
  },
  {
   "cell_type": "code",
   "execution_count": 8,
   "metadata": {},
   "outputs": [
    {
     "data": {
      "text/plain": [
       "5541"
      ]
     },
     "execution_count": 8,
     "metadata": {},
     "output_type": "execute_result"
    }
   ],
   "source": [
    "species.scientific_name.nunique()"
   ]
  },
  {
   "cell_type": "code",
   "execution_count": 9,
   "metadata": {},
   "outputs": [
    {
     "data": {
      "text/plain": [
       "5504"
      ]
     },
     "execution_count": 9,
     "metadata": {},
     "output_type": "execute_result"
    }
   ],
   "source": [
    "species.common_names.nunique()"
   ]
  },
  {
   "cell_type": "markdown",
   "metadata": {},
   "source": [
    "+ The number of unique scientific names does not match the number of rows in the table.\n",
    "    + Are there duplicate rows?\n",
    "    + Is one scientific name matched to conflicting conservation statuses? \n",
    "+ The number of unique scientific names, and the number of unique common names also do not match.\n",
    "    + Could this be because one common name is applied to numerous different scientific names?\n",
    "    + Has a generic placeholder name been used for missing data?"
   ]
  },
  {
   "cell_type": "code",
   "execution_count": 10,
   "metadata": {},
   "outputs": [
    {
     "data": {
      "text/plain": [
       "False    5824\n",
       "Name: count, dtype: int64"
      ]
     },
     "execution_count": 10,
     "metadata": {},
     "output_type": "execute_result"
    }
   ],
   "source": [
    "species.duplicated().value_counts()"
   ]
  },
  {
   "cell_type": "markdown",
   "metadata": {},
   "source": [
    "No two rows are *exact* duplicates."
   ]
  },
  {
   "cell_type": "code",
   "execution_count": 11,
   "metadata": {},
   "outputs": [
    {
     "data": {
      "text/plain": [
       "scientific_name\n",
       "False    5541\n",
       "True      283\n",
       "Name: count, dtype: int64"
      ]
     },
     "execution_count": 11,
     "metadata": {},
     "output_type": "execute_result"
    }
   ],
   "source": [
    "species.scientific_name.duplicated().value_counts()"
   ]
  },
  {
   "cell_type": "markdown",
   "metadata": {},
   "source": [
    "But, some scientific names are repeated."
   ]
  },
  {
   "cell_type": "code",
   "execution_count": 12,
   "metadata": {},
   "outputs": [
    {
     "data": {
      "text/plain": [
       "scientific_name\n",
       "Castor canadensis            3\n",
       "Canis lupus                  3\n",
       "Hypochaeris radicata         3\n",
       "Columba livia                3\n",
       "Puma concolor                3\n",
       "                            ..\n",
       "Carex                        1\n",
       "Hexastylis shuttleworthii    1\n",
       "Hexastylis heterophylla      1\n",
       "Hexastylis arifolia          1\n",
       "Tribulus terrestris          1\n",
       "Name: count, Length: 5541, dtype: int64"
      ]
     },
     "execution_count": 12,
     "metadata": {},
     "output_type": "execute_result"
    }
   ],
   "source": [
    "species.scientific_name.value_counts()"
   ]
  },
  {
   "cell_type": "code",
   "execution_count": 13,
   "metadata": {},
   "outputs": [
    {
     "name": "stdout",
     "output_type": "stream",
     "text": [
      "     category    scientific_name             common_names conservation_status\n",
      "49     Mammal  Castor canadensis  American Beaver, Beaver         Non-Concern\n",
      "3050   Mammal  Castor canadensis          American Beaver         Non-Concern\n",
      "4475   Mammal  Castor canadensis                   Beaver         Non-Concern\n",
      "     category scientific_name     common_names conservation_status\n",
      "8      Mammal     Canis lupus        Gray Wolf          Endangered\n",
      "3020   Mammal     Canis lupus  Gray Wolf, Wolf         In Recovery\n",
      "4448   Mammal     Canis lupus  Gray Wolf, Wolf          Endangered\n",
      "     category scientific_name                 common_names conservation_status\n",
      "16     Mammal   Puma concolor      Panther (Mountain Lion)         Non-Concern\n",
      "3022   Mammal   Puma concolor  Cougar, Mountain Lion, Puma         Non-Concern\n",
      "4451   Mammal   Puma concolor                Mountain Lion         Non-Concern\n"
     ]
    }
   ],
   "source": [
    "print(species[species.scientific_name == 'Castor canadensis'])\n",
    "print(species[species.scientific_name == 'Canis lupus'])\n",
    "print(species[species.scientific_name == 'Puma concolor'])"
   ]
  },
  {
   "cell_type": "markdown",
   "metadata": {},
   "source": [
    "For the repeated scientific names it appears there is variation in the common names, and some discrepancy in the conservation status. However, it makes sense that one type of species may be considered at different levels of conservation status depending on the geographical area. An example that comes to mind is the grizzly bear: a species that is extinct in California, but non-threatened in Alaska.\n",
    "\n",
    "To deal with these dupilcates, I will be removing duplicates of matching scientific name *and* conservation status. "
   ]
  },
  {
   "cell_type": "code",
   "execution_count": 14,
   "metadata": {},
   "outputs": [
    {
     "data": {
      "text/plain": [
       "scientific_name\n",
       "False    5541\n",
       "True        2\n",
       "Name: count, dtype: int64"
      ]
     },
     "execution_count": 14,
     "metadata": {},
     "output_type": "execute_result"
    }
   ],
   "source": [
    "species.drop_duplicates(subset=[\"scientific_name\", \"conservation_status\"], inplace=True)\n",
    "species.scientific_name.duplicated().value_counts()"
   ]
  },
  {
   "cell_type": "markdown",
   "metadata": {},
   "source": [
    "281 out of the 283 repeated scientific names only listed differing common-names."
   ]
  },
  {
   "cell_type": "code",
   "execution_count": 15,
   "metadata": {},
   "outputs": [
    {
     "data": {
      "text/plain": [
       "scientific_name\n",
       "Oncorhynchus mykiss                2\n",
       "Canis lupus                        2\n",
       "Clethrionomys gapperi gapperi      1\n",
       "Valeriana dioica var. sylvatica    1\n",
       "Gaultheria humifusa                1\n",
       "                                  ..\n",
       "Viola pubescens                    1\n",
       "Viola porterana                    1\n",
       "Viola pedata                       1\n",
       "Viola odorata                      1\n",
       "Tribulus terrestris                1\n",
       "Name: count, Length: 5541, dtype: int64"
      ]
     },
     "execution_count": 15,
     "metadata": {},
     "output_type": "execute_result"
    }
   ],
   "source": [
    "species.scientific_name.value_counts()"
   ]
  },
  {
   "cell_type": "code",
   "execution_count": 16,
   "metadata": {},
   "outputs": [
    {
     "name": "stdout",
     "output_type": "stream",
     "text": [
      "     category      scientific_name   common_names conservation_status\n",
      "560      Fish  Oncorhynchus mykiss  Rainbow Trout         Non-Concern\n",
      "3283     Fish  Oncorhynchus mykiss  Rainbow Trout          Threatened\n",
      "     category scientific_name     common_names conservation_status\n",
      "8      Mammal     Canis lupus        Gray Wolf          Endangered\n",
      "3020   Mammal     Canis lupus  Gray Wolf, Wolf         In Recovery\n"
     ]
    }
   ],
   "source": [
    "print(species[species.scientific_name == 'Oncorhynchus mykiss'])\n",
    "print(species[species.scientific_name == 'Canis lupus'])"
   ]
  },
  {
   "cell_type": "code",
   "execution_count": 17,
   "metadata": {},
   "outputs": [
    {
     "data": {
      "text/plain": [
       "common_names\n",
       "False    5230\n",
       "True      313\n",
       "Name: count, dtype: int64"
      ]
     },
     "execution_count": 17,
     "metadata": {},
     "output_type": "execute_result"
    }
   ],
   "source": [
    "species.common_names.duplicated().value_counts()"
   ]
  },
  {
   "cell_type": "code",
   "execution_count": 18,
   "metadata": {},
   "outputs": [
    {
     "data": {
      "text/plain": [
       "common_names\n",
       "Brachythecium Moss                                                            7\n",
       "Dicranum Moss                                                                 7\n",
       "Bryum Moss                                                                    6\n",
       "Sphagnum                                                                      6\n",
       "Panic Grass                                                                   6\n",
       "                                                                             ..\n",
       "American Bog Violet, Dog Violet                                               1\n",
       "Canadian White Violet                                                         1\n",
       "Large-Leaf White Violet, Large-Leaved Violet                                  1\n",
       "Field Pansy, Wild Pansy                                                       1\n",
       "Bullhead, Caltrop, Goathead, Mexican Sandbur, Puncture Vine, Texas Sandbur    1\n",
       "Name: count, Length: 5230, dtype: int64"
      ]
     },
     "execution_count": 18,
     "metadata": {},
     "output_type": "execute_result"
    }
   ],
   "source": [
    "species.common_names.value_counts()"
   ]
  },
  {
   "cell_type": "code",
   "execution_count": 19,
   "metadata": {},
   "outputs": [
    {
     "name": "stdout",
     "output_type": "stream",
     "text": [
      "               category           scientific_name        common_names  \\\n",
      "2812  Nonvascular Plant   Brachythecium digastrum  Brachythecium Moss   \n",
      "2813  Nonvascular Plant  Brachythecium oedipodium  Brachythecium Moss   \n",
      "2814  Nonvascular Plant   Brachythecium oxycladon  Brachythecium Moss   \n",
      "2815  Nonvascular Plant    Brachythecium plumosum  Brachythecium Moss   \n",
      "2816  Nonvascular Plant    Brachythecium rivulare  Brachythecium Moss   \n",
      "2817  Nonvascular Plant   Brachythecium rutabulum  Brachythecium Moss   \n",
      "2818  Nonvascular Plant  Brachythecium salebrosum  Brachythecium Moss   \n",
      "\n",
      "     conservation_status  \n",
      "2812         Non-Concern  \n",
      "2813         Non-Concern  \n",
      "2814         Non-Concern  \n",
      "2815         Non-Concern  \n",
      "2816         Non-Concern  \n",
      "2817         Non-Concern  \n",
      "2818         Non-Concern  \n",
      "               category         scientific_name common_names  \\\n",
      "2997  Nonvascular Plant         Sphagnum affine     Sphagnum   \n",
      "2998  Nonvascular Plant  Sphagnum capillifolium     Sphagnum   \n",
      "3003  Nonvascular Plant          Sphagnum molle     Sphagnum   \n",
      "3006  Nonvascular Plant  Sphagnum quinquefarium     Sphagnum   \n",
      "3007  Nonvascular Plant     Sphagnum squarrosum     Sphagnum   \n",
      "3008  Nonvascular Plant    Sphagnum subsecundum     Sphagnum   \n",
      "\n",
      "     conservation_status  \n",
      "2997         Non-Concern  \n",
      "2998         Non-Concern  \n",
      "3003         Non-Concern  \n",
      "3006         Non-Concern  \n",
      "3007         Non-Concern  \n",
      "3008         Non-Concern  \n"
     ]
    }
   ],
   "source": [
    "print(species[species.common_names == 'Brachythecium Moss'])\n",
    "print(species[species.common_names == 'Sphagnum'])"
   ]
  },
  {
   "cell_type": "markdown",
   "metadata": {},
   "source": [
    "When it comes to repeated common names, it appears that the common names can be used to more generally refer to a variety of closely related species."
   ]
  },
  {
   "cell_type": "markdown",
   "metadata": {
    "jp-MarkdownHeadingCollapsed": true
   },
   "source": [
    "### Observations\n",
    "Next, let's see that state of the values that are in the **observations** dataframe."
   ]
  },
  {
   "cell_type": "code",
   "execution_count": 20,
   "metadata": {},
   "outputs": [
    {
     "name": "stdout",
     "output_type": "stream",
     "text": [
      "<class 'pandas.core.frame.DataFrame'>\n",
      "RangeIndex: 23296 entries, 0 to 23295\n",
      "Data columns (total 3 columns):\n",
      " #   Column           Non-Null Count  Dtype \n",
      "---  ------           --------------  ----- \n",
      " 0   scientific_name  23296 non-null  object\n",
      " 1   park_name        23296 non-null  object\n",
      " 2   observations     23296 non-null  int64 \n",
      "dtypes: int64(1), object(2)\n",
      "memory usage: 546.1+ KB\n"
     ]
    }
   ],
   "source": [
    "observations.info()"
   ]
  },
  {
   "cell_type": "markdown",
   "metadata": {},
   "source": [
    "The are no outright null values in the observations table."
   ]
  },
  {
   "cell_type": "code",
   "execution_count": 21,
   "metadata": {},
   "outputs": [
    {
     "data": {
      "text/plain": [
       "False    23281\n",
       "True        15\n",
       "Name: count, dtype: int64"
      ]
     },
     "execution_count": 21,
     "metadata": {},
     "output_type": "execute_result"
    }
   ],
   "source": [
    "observations.duplicated().value_counts()"
   ]
  },
  {
   "cell_type": "code",
   "execution_count": 22,
   "metadata": {},
   "outputs": [],
   "source": [
    "observations.drop_duplicates(inplace=True)"
   ]
  },
  {
   "cell_type": "markdown",
   "metadata": {},
   "source": [
    "There were 15 instances of rows which were *exact* duplicates. These have been removed from the table. "
   ]
  },
  {
   "cell_type": "code",
   "execution_count": 23,
   "metadata": {},
   "outputs": [
    {
     "data": {
      "text/plain": [
       "False    22164\n",
       "True      1117\n",
       "Name: count, dtype: int64"
      ]
     },
     "execution_count": 23,
     "metadata": {},
     "output_type": "execute_result"
    }
   ],
   "source": [
    "observations.duplicated(subset=[\"scientific_name\",\"park_name\"]).value_counts()"
   ]
  },
  {
   "cell_type": "markdown",
   "metadata": {},
   "source": [
    "However, there are still 1117 instances where a different number of observations have been reported for the same species, in the same park."
   ]
  },
  {
   "cell_type": "code",
   "execution_count": 24,
   "metadata": {},
   "outputs": [
    {
     "data": {
      "text/html": [
       "<div>\n",
       "<style scoped>\n",
       "    .dataframe tbody tr th:only-of-type {\n",
       "        vertical-align: middle;\n",
       "    }\n",
       "\n",
       "    .dataframe tbody tr th {\n",
       "        vertical-align: top;\n",
       "    }\n",
       "\n",
       "    .dataframe thead th {\n",
       "        text-align: right;\n",
       "    }\n",
       "</style>\n",
       "<table border=\"1\" class=\"dataframe\">\n",
       "  <thead>\n",
       "    <tr style=\"text-align: right;\">\n",
       "      <th></th>\n",
       "      <th>scientific_name</th>\n",
       "      <th>park_name</th>\n",
       "      <th>count</th>\n",
       "    </tr>\n",
       "  </thead>\n",
       "  <tbody>\n",
       "    <tr>\n",
       "      <th>0</th>\n",
       "      <td>Holcus lanatus</td>\n",
       "      <td>Bryce National Park</td>\n",
       "      <td>3</td>\n",
       "    </tr>\n",
       "    <tr>\n",
       "      <th>1</th>\n",
       "      <td>Canis lupus</td>\n",
       "      <td>Great Smoky Mountains National Park</td>\n",
       "      <td>3</td>\n",
       "    </tr>\n",
       "    <tr>\n",
       "      <th>2</th>\n",
       "      <td>Canis lupus</td>\n",
       "      <td>Yosemite National Park</td>\n",
       "      <td>3</td>\n",
       "    </tr>\n",
       "    <tr>\n",
       "      <th>3</th>\n",
       "      <td>Myotis lucifugus</td>\n",
       "      <td>Yosemite National Park</td>\n",
       "      <td>3</td>\n",
       "    </tr>\n",
       "    <tr>\n",
       "      <th>4</th>\n",
       "      <td>Hypochaeris radicata</td>\n",
       "      <td>Bryce National Park</td>\n",
       "      <td>3</td>\n",
       "    </tr>\n",
       "    <tr>\n",
       "      <th>5</th>\n",
       "      <td>Procyon lotor</td>\n",
       "      <td>Bryce National Park</td>\n",
       "      <td>3</td>\n",
       "    </tr>\n",
       "    <tr>\n",
       "      <th>6</th>\n",
       "      <td>Hypochaeris radicata</td>\n",
       "      <td>Yellowstone National Park</td>\n",
       "      <td>3</td>\n",
       "    </tr>\n",
       "    <tr>\n",
       "      <th>7</th>\n",
       "      <td>Hypochaeris radicata</td>\n",
       "      <td>Yosemite National Park</td>\n",
       "      <td>3</td>\n",
       "    </tr>\n",
       "    <tr>\n",
       "      <th>8</th>\n",
       "      <td>Puma concolor</td>\n",
       "      <td>Yosemite National Park</td>\n",
       "      <td>3</td>\n",
       "    </tr>\n",
       "    <tr>\n",
       "      <th>9</th>\n",
       "      <td>Puma concolor</td>\n",
       "      <td>Yellowstone National Park</td>\n",
       "      <td>3</td>\n",
       "    </tr>\n",
       "  </tbody>\n",
       "</table>\n",
       "</div>"
      ],
      "text/plain": [
       "        scientific_name                            park_name  count\n",
       "0        Holcus lanatus                  Bryce National Park      3\n",
       "1           Canis lupus  Great Smoky Mountains National Park      3\n",
       "2           Canis lupus               Yosemite National Park      3\n",
       "3      Myotis lucifugus               Yosemite National Park      3\n",
       "4  Hypochaeris radicata                  Bryce National Park      3\n",
       "5         Procyon lotor                  Bryce National Park      3\n",
       "6  Hypochaeris radicata            Yellowstone National Park      3\n",
       "7  Hypochaeris radicata               Yosemite National Park      3\n",
       "8         Puma concolor               Yosemite National Park      3\n",
       "9         Puma concolor            Yellowstone National Park      3"
      ]
     },
     "execution_count": 24,
     "metadata": {},
     "output_type": "execute_result"
    }
   ],
   "source": [
    "name_and_park = observations[['scientific_name','park_name']]\n",
    "name_and_park.value_counts().reset_index().head(10)"
   ]
  },
  {
   "cell_type": "code",
   "execution_count": 25,
   "metadata": {},
   "outputs": [
    {
     "name": "stdout",
     "output_type": "stream",
     "text": [
      "     scientific_name            park_name  observations\n",
      "6237  Holcus lanatus  Bryce National Park            83\n",
      "8405  Holcus lanatus  Bryce National Park           117\n",
      "8561  Holcus lanatus  Bryce National Park            96\n",
      "      scientific_name               park_name  observations\n",
      "1294      Canis lupus  Yosemite National Park            35\n",
      "19330     Canis lupus  Yosemite National Park           117\n",
      "19987     Canis lupus  Yosemite National Park            44\n",
      "            scientific_name                  park_name  observations\n",
      "11787  Hypochaeris radicata  Yellowstone National Park           244\n",
      "13317  Hypochaeris radicata  Yellowstone National Park           262\n",
      "22333  Hypochaeris radicata  Yellowstone National Park           220\n"
     ]
    }
   ],
   "source": [
    "print(observations[(observations.scientific_name == \"Holcus lanatus\")&(observations.park_name==\"Bryce National Park\")])\n",
    "print(observations[(observations.scientific_name == \"Canis lupus\")&(observations.park_name==\"Yosemite National Park\")])\n",
    "print(observations[(observations.scientific_name == \"Hypochaeris radicata\")&(observations.park_name==\"Yellowstone National Park\")])"
   ]
  },
  {
   "cell_type": "markdown",
   "metadata": {},
   "source": [
    "Considering observations should hold recorded sightings of different species at several national parks for the past 7 days, there can not be different numbers of observations of the same species in the same park. To address this issue I will be perserving the mean number of observations for each duplicate. "
   ]
  },
  {
   "cell_type": "code",
   "execution_count": 26,
   "metadata": {},
   "outputs": [
    {
     "name": "stdout",
     "output_type": "stream",
     "text": [
      "     scientific_name            park_name  observations\n",
      "9808  Holcus lanatus  Bryce National Park            99\n",
      "     scientific_name               park_name  observations\n",
      "3219     Canis lupus  Yosemite National Park            65\n",
      "            scientific_name                  park_name  observations\n",
      "10222  Hypochaeris radicata  Yellowstone National Park           242\n"
     ]
    }
   ],
   "source": [
    "no_dups = observations.groupby(by=['scientific_name','park_name']).mean().reset_index()\n",
    "no_dups.observations = no_dups.observations.apply(lambda x: int(round(x,0)))\n",
    "\n",
    "print(no_dups[(no_dups.scientific_name == \"Holcus lanatus\")&(no_dups.park_name==\"Bryce National Park\")])\n",
    "print(no_dups[(no_dups.scientific_name == \"Canis lupus\")&(no_dups.park_name==\"Yosemite National Park\")])\n",
    "print(no_dups[(no_dups.scientific_name == \"Hypochaeris radicata\")&(no_dups.park_name==\"Yellowstone National Park\")])"
   ]
  },
  {
   "cell_type": "code",
   "execution_count": 27,
   "metadata": {},
   "outputs": [
    {
     "data": {
      "text/plain": [
       "False    22164\n",
       "Name: count, dtype: int64"
      ]
     },
     "execution_count": 27,
     "metadata": {},
     "output_type": "execute_result"
    }
   ],
   "source": [
    "no_dups.duplicated(subset=[\"scientific_name\",\"park_name\"]).value_counts()"
   ]
  },
  {
   "cell_type": "code",
   "execution_count": 28,
   "metadata": {},
   "outputs": [
    {
     "data": {
      "text/html": [
       "<div>\n",
       "<style scoped>\n",
       "    .dataframe tbody tr th:only-of-type {\n",
       "        vertical-align: middle;\n",
       "    }\n",
       "\n",
       "    .dataframe tbody tr th {\n",
       "        vertical-align: top;\n",
       "    }\n",
       "\n",
       "    .dataframe thead th {\n",
       "        text-align: right;\n",
       "    }\n",
       "</style>\n",
       "<table border=\"1\" class=\"dataframe\">\n",
       "  <thead>\n",
       "    <tr style=\"text-align: right;\">\n",
       "      <th></th>\n",
       "      <th>observations</th>\n",
       "    </tr>\n",
       "  </thead>\n",
       "  <tbody>\n",
       "    <tr>\n",
       "      <th>count</th>\n",
       "      <td>22164.000000</td>\n",
       "    </tr>\n",
       "    <tr>\n",
       "      <th>mean</th>\n",
       "      <td>142.313978</td>\n",
       "    </tr>\n",
       "    <tr>\n",
       "      <th>std</th>\n",
       "      <td>69.805835</td>\n",
       "    </tr>\n",
       "    <tr>\n",
       "      <th>min</th>\n",
       "      <td>9.000000</td>\n",
       "    </tr>\n",
       "    <tr>\n",
       "      <th>25%</th>\n",
       "      <td>86.000000</td>\n",
       "    </tr>\n",
       "    <tr>\n",
       "      <th>50%</th>\n",
       "      <td>124.000000</td>\n",
       "    </tr>\n",
       "    <tr>\n",
       "      <th>75%</th>\n",
       "      <td>195.000000</td>\n",
       "    </tr>\n",
       "    <tr>\n",
       "      <th>max</th>\n",
       "      <td>321.000000</td>\n",
       "    </tr>\n",
       "  </tbody>\n",
       "</table>\n",
       "</div>"
      ],
      "text/plain": [
       "       observations\n",
       "count  22164.000000\n",
       "mean     142.313978\n",
       "std       69.805835\n",
       "min        9.000000\n",
       "25%       86.000000\n",
       "50%      124.000000\n",
       "75%      195.000000\n",
       "max      321.000000"
      ]
     },
     "execution_count": 28,
     "metadata": {},
     "output_type": "execute_result"
    }
   ],
   "source": [
    "no_dups.describe()"
   ]
  },
  {
   "cell_type": "code",
   "execution_count": 29,
   "metadata": {},
   "outputs": [
    {
     "data": {
      "text/html": [
       "<div>\n",
       "<style scoped>\n",
       "    .dataframe tbody tr th:only-of-type {\n",
       "        vertical-align: middle;\n",
       "    }\n",
       "\n",
       "    .dataframe tbody tr th {\n",
       "        vertical-align: top;\n",
       "    }\n",
       "\n",
       "    .dataframe thead th {\n",
       "        text-align: right;\n",
       "    }\n",
       "</style>\n",
       "<table border=\"1\" class=\"dataframe\">\n",
       "  <thead>\n",
       "    <tr style=\"text-align: right;\">\n",
       "      <th></th>\n",
       "      <th>observations</th>\n",
       "    </tr>\n",
       "  </thead>\n",
       "  <tbody>\n",
       "    <tr>\n",
       "      <th>count</th>\n",
       "      <td>23281.000000</td>\n",
       "    </tr>\n",
       "    <tr>\n",
       "      <th>mean</th>\n",
       "      <td>142.280357</td>\n",
       "    </tr>\n",
       "    <tr>\n",
       "      <th>std</th>\n",
       "      <td>69.885439</td>\n",
       "    </tr>\n",
       "    <tr>\n",
       "      <th>min</th>\n",
       "      <td>9.000000</td>\n",
       "    </tr>\n",
       "    <tr>\n",
       "      <th>25%</th>\n",
       "      <td>86.000000</td>\n",
       "    </tr>\n",
       "    <tr>\n",
       "      <th>50%</th>\n",
       "      <td>124.000000</td>\n",
       "    </tr>\n",
       "    <tr>\n",
       "      <th>75%</th>\n",
       "      <td>195.000000</td>\n",
       "    </tr>\n",
       "    <tr>\n",
       "      <th>max</th>\n",
       "      <td>321.000000</td>\n",
       "    </tr>\n",
       "  </tbody>\n",
       "</table>\n",
       "</div>"
      ],
      "text/plain": [
       "       observations\n",
       "count  23281.000000\n",
       "mean     142.280357\n",
       "std       69.885439\n",
       "min        9.000000\n",
       "25%       86.000000\n",
       "50%      124.000000\n",
       "75%      195.000000\n",
       "max      321.000000"
      ]
     },
     "execution_count": 29,
     "metadata": {},
     "output_type": "execute_result"
    }
   ],
   "source": [
    "observations.describe()"
   ]
  },
  {
   "cell_type": "code",
   "execution_count": 30,
   "metadata": {},
   "outputs": [],
   "source": [
    "observations = no_dups"
   ]
  },
  {
   "cell_type": "markdown",
   "metadata": {},
   "source": [
    "## Analyzing the Data"
   ]
  },
  {
   "cell_type": "markdown",
   "metadata": {},
   "source": [
    "### Conservation Statuses and Species Type"
   ]
  },
  {
   "cell_type": "code",
   "execution_count": 31,
   "metadata": {},
   "outputs": [
    {
     "data": {
      "text/html": [
       "<div>\n",
       "<style scoped>\n",
       "    .dataframe tbody tr th:only-of-type {\n",
       "        vertical-align: middle;\n",
       "    }\n",
       "\n",
       "    .dataframe tbody tr th {\n",
       "        vertical-align: top;\n",
       "    }\n",
       "\n",
       "    .dataframe thead th {\n",
       "        text-align: right;\n",
       "    }\n",
       "</style>\n",
       "<table border=\"1\" class=\"dataframe\">\n",
       "  <thead>\n",
       "    <tr style=\"text-align: right;\">\n",
       "      <th>category</th>\n",
       "      <th>Amphibian</th>\n",
       "      <th>Bird</th>\n",
       "      <th>Fish</th>\n",
       "      <th>Mammal</th>\n",
       "      <th>Nonvascular Plant</th>\n",
       "      <th>Reptile</th>\n",
       "      <th>Vascular Plant</th>\n",
       "    </tr>\n",
       "    <tr>\n",
       "      <th>conservation_status</th>\n",
       "      <th></th>\n",
       "      <th></th>\n",
       "      <th></th>\n",
       "      <th></th>\n",
       "      <th></th>\n",
       "      <th></th>\n",
       "      <th></th>\n",
       "    </tr>\n",
       "  </thead>\n",
       "  <tbody>\n",
       "    <tr>\n",
       "      <th>Endangered</th>\n",
       "      <td>1.0</td>\n",
       "      <td>4.0</td>\n",
       "      <td>3.0</td>\n",
       "      <td>6.0</td>\n",
       "      <td>NaN</td>\n",
       "      <td>NaN</td>\n",
       "      <td>1.0</td>\n",
       "    </tr>\n",
       "    <tr>\n",
       "      <th>In Recovery</th>\n",
       "      <td>NaN</td>\n",
       "      <td>3.0</td>\n",
       "      <td>NaN</td>\n",
       "      <td>1.0</td>\n",
       "      <td>NaN</td>\n",
       "      <td>NaN</td>\n",
       "      <td>NaN</td>\n",
       "    </tr>\n",
       "    <tr>\n",
       "      <th>Non-Concern</th>\n",
       "      <td>72.0</td>\n",
       "      <td>413.0</td>\n",
       "      <td>115.0</td>\n",
       "      <td>146.0</td>\n",
       "      <td>328.0</td>\n",
       "      <td>73.0</td>\n",
       "      <td>4216.0</td>\n",
       "    </tr>\n",
       "    <tr>\n",
       "      <th>Species of Concern</th>\n",
       "      <td>4.0</td>\n",
       "      <td>68.0</td>\n",
       "      <td>4.0</td>\n",
       "      <td>22.0</td>\n",
       "      <td>5.0</td>\n",
       "      <td>5.0</td>\n",
       "      <td>43.0</td>\n",
       "    </tr>\n",
       "    <tr>\n",
       "      <th>Threatened</th>\n",
       "      <td>2.0</td>\n",
       "      <td>NaN</td>\n",
       "      <td>4.0</td>\n",
       "      <td>2.0</td>\n",
       "      <td>NaN</td>\n",
       "      <td>NaN</td>\n",
       "      <td>2.0</td>\n",
       "    </tr>\n",
       "  </tbody>\n",
       "</table>\n",
       "</div>"
      ],
      "text/plain": [
       "category             Amphibian   Bird   Fish  Mammal  Nonvascular Plant  \\\n",
       "conservation_status                                                       \n",
       "Endangered                 1.0    4.0    3.0     6.0                NaN   \n",
       "In Recovery                NaN    3.0    NaN     1.0                NaN   \n",
       "Non-Concern               72.0  413.0  115.0   146.0              328.0   \n",
       "Species of Concern         4.0   68.0    4.0    22.0                5.0   \n",
       "Threatened                 2.0    NaN    4.0     2.0                NaN   \n",
       "\n",
       "category             Reptile  Vascular Plant  \n",
       "conservation_status                           \n",
       "Endangered               NaN             1.0  \n",
       "In Recovery              NaN             NaN  \n",
       "Non-Concern             73.0          4216.0  \n",
       "Species of Concern       5.0            43.0  \n",
       "Threatened               NaN             2.0  "
      ]
     },
     "execution_count": 31,
     "metadata": {},
     "output_type": "execute_result"
    }
   ],
   "source": [
    "import matplotlib.pyplot as plt\n",
    "import seaborn as sns\n",
    "import statsmodels.api as sm\n",
    "import scipy.stats as stats\n",
    "\n",
    "all_status_by_category = species.groupby(['category', 'conservation_status']).count().reset_index()\n",
    "all_status_by_category = pd.pivot(data=all_status_by_category, index='conservation_status', columns='category', values='scientific_name')\n",
    "all_status_by_category"
   ]
  },
  {
   "cell_type": "code",
   "execution_count": 32,
   "metadata": {},
   "outputs": [
    {
     "data": {
      "image/png": "[encoded data removed]",
      "text/plain": [
       "<Figure size 640x480 with 1 Axes>"
      ]
     },
     "metadata": {},
     "output_type": "display_data"
    },
    {
     "data": {
      "text/plain": [
       "<Figure size 640x480 with 0 Axes>"
      ]
     },
     "metadata": {},
     "output_type": "display_data"
    }
   ],
   "source": [
    "all_status_by_category.plot(kind='bar')\n",
    "plt.xticks(rotation=15)\n",
    "plt.xlabel(\"Conservation Status\")\n",
    "plt.ylabel(\"Number of Species\")\n",
    "plt.show()\n",
    "plt.clf()"
   ]
  },
  {
   "cell_type": "markdown",
   "metadata": {},
   "source": [
    "Since so many species are of no conservation concern, the above chart does not provide a good vizual comparison of the different levels of concern. To remendy this, let's remove the species of no concern."
   ]
  },
  {
   "cell_type": "code",
   "execution_count": 33,
   "metadata": {},
   "outputs": [
    {
     "data": {
      "image/png": "[encoded data removed]",
      "text/plain": [
       "<Figure size 640x480 with 1 Axes>"
      ]
     },
     "metadata": {},
     "output_type": "display_data"
    },
    {
     "data": {
      "text/plain": [
       "<Figure size 640x480 with 0 Axes>"
      ]
     },
     "metadata": {},
     "output_type": "display_data"
    }
   ],
   "source": [
    "status_by_category = species[species.conservation_status != 'Non-Concern'].groupby(['category', 'conservation_status']).count().reset_index()\n",
    "status_by_category = pd.pivot(data=status_by_category, index='conservation_status', columns='category', values='scientific_name')\n",
    "status_by_category.plot(kind='bar')\n",
    "plt.xticks(rotation=15)\n",
    "plt.xlabel(\"Conservation Status\")\n",
    "plt.ylabel(\"Number of Species\")\n",
    "plt.show()\n",
    "plt.clf()"
   ]
  },
  {
   "cell_type": "markdown",
   "metadata": {},
   "source": [
    "We can now more clearly compare the differing levels of concern for each type of species.\n",
    "+ Mammals and birds have the greatest numbers of endagered species.\n",
    "+ Birds and mammals have the greatest numbers of in recovery species.\n",
    "+ Birds and vascular plants have the greatest numbers of species of concern.\n",
    "+ Fish have the greatest number of threatened species.\n",
    "\n",
    "However, the chart is displaying counts of each species. Since there are different total numbers for each category of species, comparing counts directly is not meaningful. It would be more helpful to use proportions for each species."
   ]
  },
  {
   "cell_type": "code",
   "execution_count": 34,
   "metadata": {},
   "outputs": [
    {
     "data": {
      "text/html": [
       "<div>\n",
       "<style scoped>\n",
       "    .dataframe tbody tr th:only-of-type {\n",
       "        vertical-align: middle;\n",
       "    }\n",
       "\n",
       "    .dataframe tbody tr th {\n",
       "        vertical-align: top;\n",
       "    }\n",
       "\n",
       "    .dataframe thead th {\n",
       "        text-align: right;\n",
       "    }\n",
       "</style>\n",
       "<table border=\"1\" class=\"dataframe\">\n",
       "  <thead>\n",
       "    <tr style=\"text-align: right;\">\n",
       "      <th>category</th>\n",
       "      <th>Amphibian</th>\n",
       "      <th>Bird</th>\n",
       "      <th>Fish</th>\n",
       "      <th>Mammal</th>\n",
       "      <th>Nonvascular Plant</th>\n",
       "      <th>Reptile</th>\n",
       "      <th>Vascular Plant</th>\n",
       "    </tr>\n",
       "    <tr>\n",
       "      <th>conservation_status</th>\n",
       "      <th></th>\n",
       "      <th></th>\n",
       "      <th></th>\n",
       "      <th></th>\n",
       "      <th></th>\n",
       "      <th></th>\n",
       "      <th></th>\n",
       "    </tr>\n",
       "  </thead>\n",
       "  <tbody>\n",
       "    <tr>\n",
       "      <th>Endangered</th>\n",
       "      <td>1.265823</td>\n",
       "      <td>0.819672</td>\n",
       "      <td>2.380952</td>\n",
       "      <td>3.389831</td>\n",
       "      <td>NaN</td>\n",
       "      <td>NaN</td>\n",
       "      <td>0.023463</td>\n",
       "    </tr>\n",
       "    <tr>\n",
       "      <th>In Recovery</th>\n",
       "      <td>NaN</td>\n",
       "      <td>0.614754</td>\n",
       "      <td>NaN</td>\n",
       "      <td>0.564972</td>\n",
       "      <td>NaN</td>\n",
       "      <td>NaN</td>\n",
       "      <td>NaN</td>\n",
       "    </tr>\n",
       "    <tr>\n",
       "      <th>Species of Concern</th>\n",
       "      <td>5.063291</td>\n",
       "      <td>13.934426</td>\n",
       "      <td>3.174603</td>\n",
       "      <td>12.429379</td>\n",
       "      <td>1.501502</td>\n",
       "      <td>6.410256</td>\n",
       "      <td>1.008916</td>\n",
       "    </tr>\n",
       "    <tr>\n",
       "      <th>Threatened</th>\n",
       "      <td>2.531646</td>\n",
       "      <td>NaN</td>\n",
       "      <td>3.174603</td>\n",
       "      <td>1.129944</td>\n",
       "      <td>NaN</td>\n",
       "      <td>NaN</td>\n",
       "      <td>0.046926</td>\n",
       "    </tr>\n",
       "  </tbody>\n",
       "</table>\n",
       "</div>"
      ],
      "text/plain": [
       "category             Amphibian       Bird      Fish     Mammal  \\\n",
       "conservation_status                                              \n",
       "Endangered            1.265823   0.819672  2.380952   3.389831   \n",
       "In Recovery                NaN   0.614754       NaN   0.564972   \n",
       "Species of Concern    5.063291  13.934426  3.174603  12.429379   \n",
       "Threatened            2.531646        NaN  3.174603   1.129944   \n",
       "\n",
       "category             Nonvascular Plant   Reptile  Vascular Plant  \n",
       "conservation_status                                               \n",
       "Endangered                         NaN       NaN        0.023463  \n",
       "In Recovery                        NaN       NaN             NaN  \n",
       "Species of Concern            1.501502  6.410256        1.008916  \n",
       "Threatened                         NaN       NaN        0.046926  "
      ]
     },
     "execution_count": 34,
     "metadata": {},
     "output_type": "execute_result"
    }
   ],
   "source": [
    "status_by_category_prop = status_by_category #Exclude non-concern\n",
    "#status_by_category_prop = all_status_by_category #Include non-concern\n",
    "for cat in status_by_category_prop:\n",
    "    total_of_category = len(species[species.category == cat])\n",
    "    status_by_category_prop[cat] = status_by_category_prop[cat].apply(lambda x: 100*x/total_of_category)\n",
    "status_by_category_prop"
   ]
  },
  {
   "cell_type": "code",
   "execution_count": 35,
   "metadata": {},
   "outputs": [],
   "source": [
    "status_by_category_prop['average']=status_by_category_prop.sum(axis=1)/7"
   ]
  },
  {
   "cell_type": "code",
   "execution_count": 36,
   "metadata": {},
   "outputs": [
    {
     "data": {
      "text/html": [
       "<div>\n",
       "<style scoped>\n",
       "    .dataframe tbody tr th:only-of-type {\n",
       "        vertical-align: middle;\n",
       "    }\n",
       "\n",
       "    .dataframe tbody tr th {\n",
       "        vertical-align: top;\n",
       "    }\n",
       "\n",
       "    .dataframe thead th {\n",
       "        text-align: right;\n",
       "    }\n",
       "</style>\n",
       "<table border=\"1\" class=\"dataframe\">\n",
       "  <thead>\n",
       "    <tr style=\"text-align: right;\">\n",
       "      <th>category</th>\n",
       "      <th>Amphibian</th>\n",
       "      <th>Bird</th>\n",
       "      <th>Fish</th>\n",
       "      <th>Mammal</th>\n",
       "      <th>Nonvascular Plant</th>\n",
       "      <th>Reptile</th>\n",
       "      <th>Vascular Plant</th>\n",
       "      <th>average</th>\n",
       "    </tr>\n",
       "    <tr>\n",
       "      <th>conservation_status</th>\n",
       "      <th></th>\n",
       "      <th></th>\n",
       "      <th></th>\n",
       "      <th></th>\n",
       "      <th></th>\n",
       "      <th></th>\n",
       "      <th></th>\n",
       "      <th></th>\n",
       "    </tr>\n",
       "  </thead>\n",
       "  <tbody>\n",
       "    <tr>\n",
       "      <th>Endangered</th>\n",
       "      <td>1.265823</td>\n",
       "      <td>0.819672</td>\n",
       "      <td>2.380952</td>\n",
       "      <td>3.389831</td>\n",
       "      <td>NaN</td>\n",
       "      <td>NaN</td>\n",
       "      <td>0.023463</td>\n",
       "      <td>1.125677</td>\n",
       "    </tr>\n",
       "    <tr>\n",
       "      <th>In Recovery</th>\n",
       "      <td>NaN</td>\n",
       "      <td>0.614754</td>\n",
       "      <td>NaN</td>\n",
       "      <td>0.564972</td>\n",
       "      <td>NaN</td>\n",
       "      <td>NaN</td>\n",
       "      <td>NaN</td>\n",
       "      <td>0.168532</td>\n",
       "    </tr>\n",
       "    <tr>\n",
       "      <th>Species of Concern</th>\n",
       "      <td>5.063291</td>\n",
       "      <td>13.934426</td>\n",
       "      <td>3.174603</td>\n",
       "      <td>12.429379</td>\n",
       "      <td>1.501502</td>\n",
       "      <td>6.410256</td>\n",
       "      <td>1.008916</td>\n",
       "      <td>6.217482</td>\n",
       "    </tr>\n",
       "    <tr>\n",
       "      <th>Threatened</th>\n",
       "      <td>2.531646</td>\n",
       "      <td>NaN</td>\n",
       "      <td>3.174603</td>\n",
       "      <td>1.129944</td>\n",
       "      <td>NaN</td>\n",
       "      <td>NaN</td>\n",
       "      <td>0.046926</td>\n",
       "      <td>0.983303</td>\n",
       "    </tr>\n",
       "  </tbody>\n",
       "</table>\n",
       "</div>"
      ],
      "text/plain": [
       "category             Amphibian       Bird      Fish     Mammal  \\\n",
       "conservation_status                                              \n",
       "Endangered            1.265823   0.819672  2.380952   3.389831   \n",
       "In Recovery                NaN   0.614754       NaN   0.564972   \n",
       "Species of Concern    5.063291  13.934426  3.174603  12.429379   \n",
       "Threatened            2.531646        NaN  3.174603   1.129944   \n",
       "\n",
       "category             Nonvascular Plant   Reptile  Vascular Plant   average  \n",
       "conservation_status                                                         \n",
       "Endangered                         NaN       NaN        0.023463  1.125677  \n",
       "In Recovery                        NaN       NaN             NaN  0.168532  \n",
       "Species of Concern            1.501502  6.410256        1.008916  6.217482  \n",
       "Threatened                         NaN       NaN        0.046926  0.983303  "
      ]
     },
     "execution_count": 36,
     "metadata": {},
     "output_type": "execute_result"
    }
   ],
   "source": [
    "status_by_category_prop"
   ]
  },
  {
   "cell_type": "code",
   "execution_count": 37,
   "metadata": {},
   "outputs": [
    {
     "data": {
      "image/png": "[encoded data removed]",
      "text/plain": [
       "<Figure size 640x480 with 1 Axes>"
      ]
     },
     "metadata": {},
     "output_type": "display_data"
    },
    {
     "data": {
      "text/plain": [
       "<Figure size 640x480 with 0 Axes>"
      ]
     },
     "metadata": {},
     "output_type": "display_data"
    }
   ],
   "source": [
    "status_by_category_prop.plot(kind='bar')\n",
    "plt.xticks(rotation=15)\n",
    "plt.xlabel(\"Conservation Status\")\n",
    "plt.ylabel(\"Percent of Species\")\n",
    "plt.show()\n",
    "plt.clf()"
   ]
  },
  {
   "cell_type": "markdown",
   "metadata": {},
   "source": [
    "Comparing proprtions, we now see a different story.\n",
    "+ The greatest proprtions of mammals and fish are facing endagerment.\n",
    "+ A near-equal proprotion of mammals and birds are in recovery.\n",
    "+ The greatest proportions of mammals and birds are in recovery.\n",
    "+ The greatest proportions of fish and amphibians are threatened."
   ]
  },
  {
   "cell_type": "code",
   "execution_count": 38,
   "metadata": {},
   "outputs": [
    {
     "data": {
      "text/html": [
       "<div>\n",
       "<style scoped>\n",
       "    .dataframe tbody tr th:only-of-type {\n",
       "        vertical-align: middle;\n",
       "    }\n",
       "\n",
       "    .dataframe tbody tr th {\n",
       "        vertical-align: top;\n",
       "    }\n",
       "\n",
       "    .dataframe thead th {\n",
       "        text-align: right;\n",
       "    }\n",
       "</style>\n",
       "<table border=\"1\" class=\"dataframe\">\n",
       "  <thead>\n",
       "    <tr style=\"text-align: right;\">\n",
       "      <th></th>\n",
       "      <th>category</th>\n",
       "      <th>perc_in_conservation</th>\n",
       "      <th>perc_not_in_conservation</th>\n",
       "    </tr>\n",
       "  </thead>\n",
       "  <tbody>\n",
       "    <tr>\n",
       "      <th>0</th>\n",
       "      <td>Amphibian</td>\n",
       "      <td>8.860759</td>\n",
       "      <td>91.139241</td>\n",
       "    </tr>\n",
       "    <tr>\n",
       "      <th>1</th>\n",
       "      <td>Bird</td>\n",
       "      <td>15.368852</td>\n",
       "      <td>84.631148</td>\n",
       "    </tr>\n",
       "    <tr>\n",
       "      <th>2</th>\n",
       "      <td>Fish</td>\n",
       "      <td>8.730159</td>\n",
       "      <td>91.269841</td>\n",
       "    </tr>\n",
       "    <tr>\n",
       "      <th>3</th>\n",
       "      <td>Mammal</td>\n",
       "      <td>17.514124</td>\n",
       "      <td>82.485876</td>\n",
       "    </tr>\n",
       "    <tr>\n",
       "      <th>4</th>\n",
       "      <td>Nonvascular Plant</td>\n",
       "      <td>1.501502</td>\n",
       "      <td>98.498498</td>\n",
       "    </tr>\n",
       "    <tr>\n",
       "      <th>5</th>\n",
       "      <td>Reptile</td>\n",
       "      <td>6.410256</td>\n",
       "      <td>93.589744</td>\n",
       "    </tr>\n",
       "    <tr>\n",
       "      <th>6</th>\n",
       "      <td>Vascular Plant</td>\n",
       "      <td>1.079305</td>\n",
       "      <td>98.920695</td>\n",
       "    </tr>\n",
       "    <tr>\n",
       "      <th>7</th>\n",
       "      <td>average</td>\n",
       "      <td>8.494994</td>\n",
       "      <td>91.505006</td>\n",
       "    </tr>\n",
       "  </tbody>\n",
       "</table>\n",
       "</div>"
      ],
      "text/plain": [
       "            category  perc_in_conservation  perc_not_in_conservation\n",
       "0          Amphibian              8.860759                 91.139241\n",
       "1               Bird             15.368852                 84.631148\n",
       "2               Fish              8.730159                 91.269841\n",
       "3             Mammal             17.514124                 82.485876\n",
       "4  Nonvascular Plant              1.501502                 98.498498\n",
       "5            Reptile              6.410256                 93.589744\n",
       "6     Vascular Plant              1.079305                 98.920695\n",
       "7            average              8.494994                 91.505006"
      ]
     },
     "execution_count": 38,
     "metadata": {},
     "output_type": "execute_result"
    }
   ],
   "source": [
    "conservation_percent = status_by_category_prop.sum().reset_index()\n",
    "conservation_percent.columns = ['category','perc_in_conservation']\n",
    "conservation_percent['perc_not_in_conservation'] = 100-conservation_percent['perc_in_conservation']\n",
    "conservation_percent"
   ]
  },
  {
   "cell_type": "markdown",
   "metadata": {},
   "source": [
    "Overall, the two species at greatest risk are mammals (17.5%) and birds (15.4%). But, are the observed rates of conservation statuses for each species statistically siginificant? Or are these observations due to chance? To determine the relatioship between categorical variables, a chi-square test will be used.\n",
    "\n",
    "The chi-square test is to examine whether two nominal variables are independent or not. Our question is whether conservation status is dependent on species type. To perform this test, we need the frequencies actually observed in a bivariate table."
   ]
  },
  {
   "cell_type": "code",
   "execution_count": 39,
   "metadata": {},
   "outputs": [
    {
     "data": {
      "text/html": [
       "<div>\n",
       "<style scoped>\n",
       "    .dataframe tbody tr th:only-of-type {\n",
       "        vertical-align: middle;\n",
       "    }\n",
       "\n",
       "    .dataframe tbody tr th {\n",
       "        vertical-align: top;\n",
       "    }\n",
       "\n",
       "    .dataframe thead th {\n",
       "        text-align: right;\n",
       "    }\n",
       "</style>\n",
       "<table border=\"1\" class=\"dataframe\">\n",
       "  <thead>\n",
       "    <tr style=\"text-align: right;\">\n",
       "      <th></th>\n",
       "      <th>category</th>\n",
       "      <th>in_conservation</th>\n",
       "      <th>not_in_conservation</th>\n",
       "    </tr>\n",
       "  </thead>\n",
       "  <tbody>\n",
       "    <tr>\n",
       "      <th>0</th>\n",
       "      <td>Amphibian</td>\n",
       "      <td>7</td>\n",
       "      <td>72</td>\n",
       "    </tr>\n",
       "    <tr>\n",
       "      <th>1</th>\n",
       "      <td>Bird</td>\n",
       "      <td>75</td>\n",
       "      <td>413</td>\n",
       "    </tr>\n",
       "    <tr>\n",
       "      <th>2</th>\n",
       "      <td>Fish</td>\n",
       "      <td>11</td>\n",
       "      <td>115</td>\n",
       "    </tr>\n",
       "    <tr>\n",
       "      <th>3</th>\n",
       "      <td>Mammal</td>\n",
       "      <td>31</td>\n",
       "      <td>146</td>\n",
       "    </tr>\n",
       "    <tr>\n",
       "      <th>4</th>\n",
       "      <td>Nonvascular Plant</td>\n",
       "      <td>5</td>\n",
       "      <td>328</td>\n",
       "    </tr>\n",
       "    <tr>\n",
       "      <th>5</th>\n",
       "      <td>Reptile</td>\n",
       "      <td>5</td>\n",
       "      <td>73</td>\n",
       "    </tr>\n",
       "    <tr>\n",
       "      <th>6</th>\n",
       "      <td>Vascular Plant</td>\n",
       "      <td>46</td>\n",
       "      <td>4216</td>\n",
       "    </tr>\n",
       "  </tbody>\n",
       "</table>\n",
       "</div>"
      ],
      "text/plain": [
       "            category  in_conservation  not_in_conservation\n",
       "0          Amphibian                7                   72\n",
       "1               Bird               75                  413\n",
       "2               Fish               11                  115\n",
       "3             Mammal               31                  146\n",
       "4  Nonvascular Plant                5                  328\n",
       "5            Reptile                5                   73\n",
       "6     Vascular Plant               46                 4216"
      ]
     },
     "execution_count": 39,
     "metadata": {},
     "output_type": "execute_result"
    }
   ],
   "source": [
    "conservation_counts = species[species.conservation_status != 'Non-Concern'].groupby(['category', 'conservation_status']).scientific_name.count().reset_index()\n",
    "conservation_counts = conservation_counts.groupby('category').sum().reset_index()\n",
    "conservation_counts = conservation_counts.drop('conservation_status', axis=1)\n",
    "conservation_counts.columns=['category', 'in_conservation']\n",
    "conservation_counts['not_in_conservation'] = species[species.conservation_status == 'Non-Concern'].groupby(['category']).scientific_name.count().reset_index()['scientific_name']\n",
    "conservation_counts"
   ]
  },
  {
   "cell_type": "markdown",
   "metadata": {},
   "source": [
    "Since plants and animals likely face different challenges for their conservation statuses, I will be running  a separate chi-square test on the animals and the plants to assess the relationship between species and conservation status."
   ]
  },
  {
   "cell_type": "code",
   "execution_count": 40,
   "metadata": {},
   "outputs": [
    {
     "data": {
      "text/html": [
       "<div>\n",
       "<style scoped>\n",
       "    .dataframe tbody tr th:only-of-type {\n",
       "        vertical-align: middle;\n",
       "    }\n",
       "\n",
       "    .dataframe tbody tr th {\n",
       "        vertical-align: top;\n",
       "    }\n",
       "\n",
       "    .dataframe thead th {\n",
       "        text-align: right;\n",
       "    }\n",
       "</style>\n",
       "<table border=\"1\" class=\"dataframe\">\n",
       "  <thead>\n",
       "    <tr style=\"text-align: right;\">\n",
       "      <th></th>\n",
       "      <th>category</th>\n",
       "      <th>in_conservation</th>\n",
       "      <th>not_in_conservation</th>\n",
       "    </tr>\n",
       "  </thead>\n",
       "  <tbody>\n",
       "    <tr>\n",
       "      <th>0</th>\n",
       "      <td>Amphibian</td>\n",
       "      <td>7</td>\n",
       "      <td>72</td>\n",
       "    </tr>\n",
       "    <tr>\n",
       "      <th>1</th>\n",
       "      <td>Bird</td>\n",
       "      <td>75</td>\n",
       "      <td>413</td>\n",
       "    </tr>\n",
       "    <tr>\n",
       "      <th>2</th>\n",
       "      <td>Fish</td>\n",
       "      <td>11</td>\n",
       "      <td>115</td>\n",
       "    </tr>\n",
       "    <tr>\n",
       "      <th>3</th>\n",
       "      <td>Mammal</td>\n",
       "      <td>31</td>\n",
       "      <td>146</td>\n",
       "    </tr>\n",
       "    <tr>\n",
       "      <th>5</th>\n",
       "      <td>Reptile</td>\n",
       "      <td>5</td>\n",
       "      <td>73</td>\n",
       "    </tr>\n",
       "  </tbody>\n",
       "</table>\n",
       "</div>"
      ],
      "text/plain": [
       "    category  in_conservation  not_in_conservation\n",
       "0  Amphibian                7                   72\n",
       "1       Bird               75                  413\n",
       "2       Fish               11                  115\n",
       "3     Mammal               31                  146\n",
       "5    Reptile                5                   73"
      ]
     },
     "execution_count": 40,
     "metadata": {},
     "output_type": "execute_result"
    }
   ],
   "source": [
    "from scipy.stats import chi2_contingency\n",
    "import numpy as np\n",
    "\n",
    "animals_v_conservation = conservation_counts[~conservation_counts.category.str.contains(\"Plant\")]\n",
    "animals_v_conservation"
   ]
  },
  {
   "cell_type": "markdown",
   "metadata": {},
   "source": [
    "**Null Hypothesis** - For different types of animals, there is no relationship between species type and conservation status.\n",
    "\n",
    "**Alternative Hypothesis** - For different types of animals, there is a relationship between species type and conservation status."
   ]
  },
  {
   "cell_type": "code",
   "execution_count": 41,
   "metadata": {},
   "outputs": [
    {
     "name": "stdout",
     "output_type": "stream",
     "text": [
      "Chi2:11.08635398944666\n",
      "P-value0.02561046637703992\n",
      "Expected:[[ 10.75        68.25      ]\n",
      " [ 66.40506329 421.59493671]\n",
      " [ 17.14556962 108.85443038]\n",
      " [ 24.08544304 152.91455696]\n",
      " [ 10.61392405  67.38607595]]\n"
     ]
    }
   ],
   "source": [
    "animals_v_conservation = np.array(animals_v_conservation.drop(\"category\", axis=1))\n",
    "chi2, pval, dof, exp = chi2_contingency(animals_v_conservation)\n",
    "print(f\"Chi2:{chi2}\\nP-value{pval}\\nExpected:{exp}\")"
   ]
  },
  {
   "cell_type": "markdown",
   "metadata": {},
   "source": [
    "The p-value from our chi-square test for animals is 0.0256, which is below the 0.05 threshold. This means we should reject the null hypothesis, and accept that, for animals, there is a statistically significant relationship between species type, and conservation status. It is likely *not* coincidence that birds and mammals face conservation statuses at higer rates than fish, amphibians, and reptiles."
   ]
  },
  {
   "cell_type": "code",
   "execution_count": 42,
   "metadata": {},
   "outputs": [
    {
     "data": {
      "text/html": [
       "<div>\n",
       "<style scoped>\n",
       "    .dataframe tbody tr th:only-of-type {\n",
       "        vertical-align: middle;\n",
       "    }\n",
       "\n",
       "    .dataframe tbody tr th {\n",
       "        vertical-align: top;\n",
       "    }\n",
       "\n",
       "    .dataframe thead th {\n",
       "        text-align: right;\n",
       "    }\n",
       "</style>\n",
       "<table border=\"1\" class=\"dataframe\">\n",
       "  <thead>\n",
       "    <tr style=\"text-align: right;\">\n",
       "      <th></th>\n",
       "      <th>category</th>\n",
       "      <th>in_conservation</th>\n",
       "      <th>not_in_conservation</th>\n",
       "    </tr>\n",
       "  </thead>\n",
       "  <tbody>\n",
       "    <tr>\n",
       "      <th>4</th>\n",
       "      <td>Nonvascular Plant</td>\n",
       "      <td>5</td>\n",
       "      <td>328</td>\n",
       "    </tr>\n",
       "    <tr>\n",
       "      <th>6</th>\n",
       "      <td>Vascular Plant</td>\n",
       "      <td>46</td>\n",
       "      <td>4216</td>\n",
       "    </tr>\n",
       "  </tbody>\n",
       "</table>\n",
       "</div>"
      ],
      "text/plain": [
       "            category  in_conservation  not_in_conservation\n",
       "4  Nonvascular Plant                5                  328\n",
       "6     Vascular Plant               46                 4216"
      ]
     },
     "execution_count": 42,
     "metadata": {},
     "output_type": "execute_result"
    }
   ],
   "source": [
    "plants_v_conservation = conservation_counts[conservation_counts.category.str.contains(\"Plant\")]\n",
    "plants_v_conservation"
   ]
  },
  {
   "cell_type": "markdown",
   "metadata": {},
   "source": [
    "**Null Hypothesis** - For different types of plants, there is no relationship between species type and conservation status.\n",
    "\n",
    "**Alternative Hypothesis** - For different types of plants, there is a relationship between species type and conservation status."
   ]
  },
  {
   "cell_type": "code",
   "execution_count": 43,
   "metadata": {},
   "outputs": [
    {
     "name": "stdout",
     "output_type": "stream",
     "text": [
      "Chi2:0.19069121233812064\n",
      "P-value0.6623419491381985\n",
      "Expected:[[3.69597388e+00 3.29304026e+02]\n",
      " [4.73040261e+01 4.21469597e+03]]\n"
     ]
    }
   ],
   "source": [
    "plants_v_conservation = np.array(plants_v_conservation.drop(\"category\", axis=1))\n",
    "chi2, pval, dof, exp = chi2_contingency(plants_v_conservation)\n",
    "print(f\"Chi2:{chi2}\\nP-value{pval}\\nExpected:{exp}\")"
   ]
  },
  {
   "cell_type": "markdown",
   "metadata": {},
   "source": [
    "The p-value from our chi-square test for plants is 0.662, which is well above the 0.05 threshold. This means we should accept the null hypothesis; that is, for plants there is **NOT** a statistically significant relationship between species type, and conservation status."
   ]
  },
  {
   "cell_type": "code",
   "execution_count": 44,
   "metadata": {},
   "outputs": [
    {
     "data": {
      "text/html": [
       "<div>\n",
       "<style scoped>\n",
       "    .dataframe tbody tr th:only-of-type {\n",
       "        vertical-align: middle;\n",
       "    }\n",
       "\n",
       "    .dataframe tbody tr th {\n",
       "        vertical-align: top;\n",
       "    }\n",
       "\n",
       "    .dataframe thead th {\n",
       "        text-align: right;\n",
       "    }\n",
       "</style>\n",
       "<table border=\"1\" class=\"dataframe\">\n",
       "  <thead>\n",
       "    <tr style=\"text-align: right;\">\n",
       "      <th></th>\n",
       "      <th>animal</th>\n",
       "    </tr>\n",
       "  </thead>\n",
       "  <tbody>\n",
       "    <tr>\n",
       "      <th>in_conservation</th>\n",
       "      <td>129</td>\n",
       "    </tr>\n",
       "    <tr>\n",
       "      <th>not_in_conservation</th>\n",
       "      <td>819</td>\n",
       "    </tr>\n",
       "  </tbody>\n",
       "</table>\n",
       "</div>"
      ],
      "text/plain": [
       "                     animal\n",
       "in_conservation         129\n",
       "not_in_conservation     819"
      ]
     },
     "execution_count": 44,
     "metadata": {},
     "output_type": "execute_result"
    }
   ],
   "source": [
    "animal_status = animals_v_conservation.sum(axis=0)\n",
    "animal_status = pd.DataFrame(animal_status)\n",
    "animal_status.columns = ['animal']\n",
    "animal_status.index = ['in_conservation', 'not_in_conservation']\n",
    "animal_status"
   ]
  },
  {
   "cell_type": "code",
   "execution_count": 45,
   "metadata": {},
   "outputs": [
    {
     "data": {
      "text/html": [
       "<div>\n",
       "<style scoped>\n",
       "    .dataframe tbody tr th:only-of-type {\n",
       "        vertical-align: middle;\n",
       "    }\n",
       "\n",
       "    .dataframe tbody tr th {\n",
       "        vertical-align: top;\n",
       "    }\n",
       "\n",
       "    .dataframe thead th {\n",
       "        text-align: right;\n",
       "    }\n",
       "</style>\n",
       "<table border=\"1\" class=\"dataframe\">\n",
       "  <thead>\n",
       "    <tr style=\"text-align: right;\">\n",
       "      <th></th>\n",
       "      <th>plant</th>\n",
       "    </tr>\n",
       "  </thead>\n",
       "  <tbody>\n",
       "    <tr>\n",
       "      <th>in_conservation</th>\n",
       "      <td>51</td>\n",
       "    </tr>\n",
       "    <tr>\n",
       "      <th>not_in_conservation</th>\n",
       "      <td>4544</td>\n",
       "    </tr>\n",
       "  </tbody>\n",
       "</table>\n",
       "</div>"
      ],
      "text/plain": [
       "                     plant\n",
       "in_conservation         51\n",
       "not_in_conservation   4544"
      ]
     },
     "execution_count": 45,
     "metadata": {},
     "output_type": "execute_result"
    }
   ],
   "source": [
    "plant_status = plants_v_conservation.sum(axis=0)\n",
    "plant_status = pd.DataFrame(plant_status)\n",
    "plant_status.columns = ['plant']\n",
    "plant_status.index = ['in_conservation', 'not_in_conservation']\n",
    "plant_status"
   ]
  },
  {
   "cell_type": "code",
   "execution_count": 46,
   "metadata": {},
   "outputs": [
    {
     "data": {
      "text/html": [
       "<div>\n",
       "<style scoped>\n",
       "    .dataframe tbody tr th:only-of-type {\n",
       "        vertical-align: middle;\n",
       "    }\n",
       "\n",
       "    .dataframe tbody tr th {\n",
       "        vertical-align: top;\n",
       "    }\n",
       "\n",
       "    .dataframe thead th {\n",
       "        text-align: right;\n",
       "    }\n",
       "</style>\n",
       "<table border=\"1\" class=\"dataframe\">\n",
       "  <thead>\n",
       "    <tr style=\"text-align: right;\">\n",
       "      <th></th>\n",
       "      <th>conservation_status</th>\n",
       "      <th>plant</th>\n",
       "      <th>animal</th>\n",
       "    </tr>\n",
       "  </thead>\n",
       "  <tbody>\n",
       "    <tr>\n",
       "      <th>0</th>\n",
       "      <td>in_conservation</td>\n",
       "      <td>51</td>\n",
       "      <td>129</td>\n",
       "    </tr>\n",
       "    <tr>\n",
       "      <th>1</th>\n",
       "      <td>not_in_conservation</td>\n",
       "      <td>4544</td>\n",
       "      <td>819</td>\n",
       "    </tr>\n",
       "  </tbody>\n",
       "</table>\n",
       "</div>"
      ],
      "text/plain": [
       "   conservation_status  plant  animal\n",
       "0      in_conservation     51     129\n",
       "1  not_in_conservation   4544     819"
      ]
     },
     "execution_count": 46,
     "metadata": {},
     "output_type": "execute_result"
    }
   ],
   "source": [
    "type_v_status = plant_status.join(animal_status).reset_index()\n",
    "type_v_status.columns = ['conservation_status','plant','animal']\n",
    "type_v_status"
   ]
  },
  {
   "cell_type": "code",
   "execution_count": 47,
   "metadata": {},
   "outputs": [
    {
     "data": {
      "text/html": [
       "<div>\n",
       "<style scoped>\n",
       "    .dataframe tbody tr th:only-of-type {\n",
       "        vertical-align: middle;\n",
       "    }\n",
       "\n",
       "    .dataframe tbody tr th {\n",
       "        vertical-align: top;\n",
       "    }\n",
       "\n",
       "    .dataframe thead th {\n",
       "        text-align: right;\n",
       "    }\n",
       "</style>\n",
       "<table border=\"1\" class=\"dataframe\">\n",
       "  <thead>\n",
       "    <tr style=\"text-align: right;\">\n",
       "      <th></th>\n",
       "      <th>0</th>\n",
       "      <th>1</th>\n",
       "    </tr>\n",
       "  </thead>\n",
       "  <tbody>\n",
       "    <tr>\n",
       "      <th>conservation_status</th>\n",
       "      <td>in_conservation</td>\n",
       "      <td>not_in_conservation</td>\n",
       "    </tr>\n",
       "    <tr>\n",
       "      <th>plant</th>\n",
       "      <td>51</td>\n",
       "      <td>4544</td>\n",
       "    </tr>\n",
       "    <tr>\n",
       "      <th>animal</th>\n",
       "      <td>129</td>\n",
       "      <td>819</td>\n",
       "    </tr>\n",
       "  </tbody>\n",
       "</table>\n",
       "</div>"
      ],
      "text/plain": [
       "                                   0                    1\n",
       "conservation_status  in_conservation  not_in_conservation\n",
       "plant                             51                 4544\n",
       "animal                           129                  819"
      ]
     },
     "execution_count": 47,
     "metadata": {},
     "output_type": "execute_result"
    }
   ],
   "source": [
    "type_v_status = type_v_status.T\n",
    "\n",
    "type_v_status"
   ]
  },
  {
   "cell_type": "code",
   "execution_count": 48,
   "metadata": {},
   "outputs": [
    {
     "data": {
      "text/html": [
       "<div>\n",
       "<style scoped>\n",
       "    .dataframe tbody tr th:only-of-type {\n",
       "        vertical-align: middle;\n",
       "    }\n",
       "\n",
       "    .dataframe tbody tr th {\n",
       "        vertical-align: top;\n",
       "    }\n",
       "\n",
       "    .dataframe thead th {\n",
       "        text-align: right;\n",
       "    }\n",
       "</style>\n",
       "<table border=\"1\" class=\"dataframe\">\n",
       "  <thead>\n",
       "    <tr style=\"text-align: right;\">\n",
       "      <th>conservation_status</th>\n",
       "      <th>in_conservation</th>\n",
       "      <th>not_in_conservation</th>\n",
       "    </tr>\n",
       "  </thead>\n",
       "  <tbody>\n",
       "    <tr>\n",
       "      <th>plant</th>\n",
       "      <td>51</td>\n",
       "      <td>4544</td>\n",
       "    </tr>\n",
       "    <tr>\n",
       "      <th>animal</th>\n",
       "      <td>129</td>\n",
       "      <td>819</td>\n",
       "    </tr>\n",
       "  </tbody>\n",
       "</table>\n",
       "</div>"
      ],
      "text/plain": [
       "conservation_status in_conservation not_in_conservation\n",
       "plant                            51                4544\n",
       "animal                          129                 819"
      ]
     },
     "execution_count": 48,
     "metadata": {},
     "output_type": "execute_result"
    }
   ],
   "source": [
    "new_header = type_v_status.iloc[0] #grab the first row for the header\n",
    "type_v_status = type_v_status[1:] #take the data less the header row\n",
    "type_v_status.columns = new_header #set the header row as the df header\n",
    "type_v_status"
   ]
  },
  {
   "cell_type": "markdown",
   "metadata": {},
   "source": [
    "**Null Hypothesis** - For plants compared to animals, there is no relationship between species type and conservation status.\n",
    "\n",
    "**Alternative Hypothesis** - For plants compared to animals, there is a relationship between species type and conservation status."
   ]
  },
  {
   "cell_type": "code",
   "execution_count": 49,
   "metadata": {},
   "outputs": [
    {
     "name": "stdout",
     "output_type": "stream",
     "text": [
      "Chi2:386.70961108794063\n",
      "P-value4.307314667696459e-86\n",
      "Expected:[[ 149.21522641 4445.78477359]\n",
      " [  30.78477359  917.21522641]]\n"
     ]
    }
   ],
   "source": [
    "type_v_status.reset_index()\n",
    "type_v_status = np.array(type_v_status)\n",
    "chi2, pval, dof, exp = chi2_contingency(type_v_status)\n",
    "print(f\"Chi2:{chi2}\\nP-value{pval}\\nExpected:{exp}\")"
   ]
  },
  {
   "cell_type": "markdown",
   "metadata": {},
   "source": [
    "The p-value from our chi-square test for animals is 4.31e-86, which is *well* below the 0.05 threshold. This means we should reject the null hypothesis, and accept that, there is a statistically significant relationship between species classification as plant or animal, and conservation status. It is likely *not* coincidence that animals face conservation statuses at higer rates than plants."
   ]
  },
  {
   "cell_type": "markdown",
   "metadata": {},
   "source": [
    "### Abundance by Park"
   ]
  },
  {
   "cell_type": "code",
   "execution_count": 50,
   "metadata": {},
   "outputs": [
    {
     "data": {
      "text/html": [
       "<div>\n",
       "<style scoped>\n",
       "    .dataframe tbody tr th:only-of-type {\n",
       "        vertical-align: middle;\n",
       "    }\n",
       "\n",
       "    .dataframe tbody tr th {\n",
       "        vertical-align: top;\n",
       "    }\n",
       "\n",
       "    .dataframe thead th {\n",
       "        text-align: right;\n",
       "    }\n",
       "</style>\n",
       "<table border=\"1\" class=\"dataframe\">\n",
       "  <thead>\n",
       "    <tr style=\"text-align: right;\">\n",
       "      <th></th>\n",
       "      <th>park_name</th>\n",
       "      <th>observations</th>\n",
       "      <th>observations_percent</th>\n",
       "    </tr>\n",
       "  </thead>\n",
       "  <tbody>\n",
       "    <tr>\n",
       "      <th>0</th>\n",
       "      <td>Bryce National Park</td>\n",
       "      <td>548231</td>\n",
       "      <td>0.173807</td>\n",
       "    </tr>\n",
       "    <tr>\n",
       "      <th>1</th>\n",
       "      <td>Great Smoky Mountains National Park</td>\n",
       "      <td>410888</td>\n",
       "      <td>0.130265</td>\n",
       "    </tr>\n",
       "    <tr>\n",
       "      <th>2</th>\n",
       "      <td>Yellowstone National Park</td>\n",
       "      <td>1373599</td>\n",
       "      <td>0.435476</td>\n",
       "    </tr>\n",
       "    <tr>\n",
       "      <th>3</th>\n",
       "      <td>Yosemite National Park</td>\n",
       "      <td>821529</td>\n",
       "      <td>0.260452</td>\n",
       "    </tr>\n",
       "  </tbody>\n",
       "</table>\n",
       "</div>"
      ],
      "text/plain": [
       "                             park_name  observations  observations_percent\n",
       "0                  Bryce National Park        548231              0.173807\n",
       "1  Great Smoky Mountains National Park        410888              0.130265\n",
       "2            Yellowstone National Park       1373599              0.435476\n",
       "3               Yosemite National Park        821529              0.260452"
      ]
     },
     "execution_count": 50,
     "metadata": {},
     "output_type": "execute_result"
    }
   ],
   "source": [
    "abundance = observations.groupby(\"park_name\").observations.sum().reset_index()\n",
    "abundance['observations_percent'] = abundance.observations.apply(lambda x: x/abundance.observations.sum())\n",
    "abundance"
   ]
  },
  {
   "cell_type": "code",
   "execution_count": 61,
   "metadata": {},
   "outputs": [
    {
     "data": {
      "text/html": [
       "<div>\n",
       "<style scoped>\n",
       "    .dataframe tbody tr th:only-of-type {\n",
       "        vertical-align: middle;\n",
       "    }\n",
       "\n",
       "    .dataframe tbody tr th {\n",
       "        vertical-align: top;\n",
       "    }\n",
       "\n",
       "    .dataframe thead th {\n",
       "        text-align: right;\n",
       "    }\n",
       "</style>\n",
       "<table border=\"1\" class=\"dataframe\">\n",
       "  <thead>\n",
       "    <tr style=\"text-align: right;\">\n",
       "      <th></th>\n",
       "      <th>animal</th>\n",
       "      <th>plant</th>\n",
       "      <th>total_observations</th>\n",
       "      <th>percent_animal_overall</th>\n",
       "      <th>percent_plant_overall</th>\n",
       "      <th>split_animal</th>\n",
       "      <th>split_plant</th>\n",
       "    </tr>\n",
       "    <tr>\n",
       "      <th>park_name</th>\n",
       "      <th></th>\n",
       "      <th></th>\n",
       "      <th></th>\n",
       "      <th></th>\n",
       "      <th></th>\n",
       "      <th></th>\n",
       "      <th></th>\n",
       "    </tr>\n",
       "  </thead>\n",
       "  <tbody>\n",
       "    <tr>\n",
       "      <th>Bryce National Park</th>\n",
       "      <td>92595</td>\n",
       "      <td>455636</td>\n",
       "      <td>548231</td>\n",
       "      <td>0.029356</td>\n",
       "      <td>0.144452</td>\n",
       "      <td>0.168898</td>\n",
       "      <td>0.831102</td>\n",
       "    </tr>\n",
       "    <tr>\n",
       "      <th>Great Smoky Mountains National Park</th>\n",
       "      <td>67910</td>\n",
       "      <td>342978</td>\n",
       "      <td>410888</td>\n",
       "      <td>0.021530</td>\n",
       "      <td>0.108735</td>\n",
       "      <td>0.165276</td>\n",
       "      <td>0.834724</td>\n",
       "    </tr>\n",
       "    <tr>\n",
       "      <th>Yellowstone National Park</th>\n",
       "      <td>229758</td>\n",
       "      <td>1143841</td>\n",
       "      <td>1373599</td>\n",
       "      <td>0.072841</td>\n",
       "      <td>0.362635</td>\n",
       "      <td>0.167267</td>\n",
       "      <td>0.832733</td>\n",
       "    </tr>\n",
       "    <tr>\n",
       "      <th>Yosemite National Park</th>\n",
       "      <td>137187</td>\n",
       "      <td>684342</td>\n",
       "      <td>821529</td>\n",
       "      <td>0.043493</td>\n",
       "      <td>0.216959</td>\n",
       "      <td>0.166990</td>\n",
       "      <td>0.833010</td>\n",
       "    </tr>\n",
       "  </tbody>\n",
       "</table>\n",
       "</div>"
      ],
      "text/plain": [
       "                                     animal    plant  total_observations  \\\n",
       "park_name                                                                  \n",
       "Bryce National Park                   92595   455636              548231   \n",
       "Great Smoky Mountains National Park   67910   342978              410888   \n",
       "Yellowstone National Park            229758  1143841             1373599   \n",
       "Yosemite National Park               137187   684342              821529   \n",
       "\n",
       "                                     percent_animal_overall  \\\n",
       "park_name                                                     \n",
       "Bryce National Park                                0.029356   \n",
       "Great Smoky Mountains National Park                0.021530   \n",
       "Yellowstone National Park                          0.072841   \n",
       "Yosemite National Park                             0.043493   \n",
       "\n",
       "                                     percent_plant_overall  split_animal  \\\n",
       "park_name                                                                  \n",
       "Bryce National Park                               0.144452      0.168898   \n",
       "Great Smoky Mountains National Park               0.108735      0.165276   \n",
       "Yellowstone National Park                         0.362635      0.167267   \n",
       "Yosemite National Park                            0.216959      0.166990   \n",
       "\n",
       "                                     split_plant  \n",
       "park_name                                         \n",
       "Bryce National Park                     0.831102  \n",
       "Great Smoky Mountains National Park     0.834724  \n",
       "Yellowstone National Park               0.832733  \n",
       "Yosemite National Park                  0.833010  "
      ]
     },
     "execution_count": 61,
     "metadata": {},
     "output_type": "execute_result"
    }
   ],
   "source": [
    "observations_and_type = observations.merge(species.drop_duplicates(subset='scientific_name'))\\\n",
    "                                    .drop(['common_names','scientific_name','conservation_status'], axis=1)\n",
    "observations_and_type = observations_and_type.groupby(['park_name', 'category']).observations.sum().reset_index()\n",
    "observations_and_type['is_plant'] = observations_and_type.category.str.contains(\"Plant\")\n",
    "observations_and_type = observations_and_type.groupby(['park_name', 'is_plant']).observations.sum().reset_index()\n",
    "observations_and_type = observations_and_type.pivot(index='park_name', columns='is_plant',values='observations')\n",
    "observations_and_type.columns = ['animal', 'plant']\n",
    "observations_and_type['total_observations'] = observations_and_type.animal + observations_and_type.plant\n",
    "observations_and_type['percent_animal_overall'] = observations_and_type.animal/observations_and_type.total_observations.sum()\n",
    "observations_and_type['percent_plant_overall'] = observations_and_type.plant/observations_and_type.total_observations.sum()\n",
    "observations_and_type['split_animal'] = observations_and_type.animal/observations_and_type.total_observations\n",
    "observations_and_type['split_plant'] = observations_and_type.plant/observations_and_type.total_observations\n",
    "#observations_and_type.drop('total_observations', axis=1, inplace=True)\n",
    "observations_and_type"
   ]
  },
  {
   "cell_type": "code",
   "execution_count": 60,
   "metadata": {},
   "outputs": [
    {
     "data": {
      "image/png": "[encoded data removed]",
      "text/plain": [
       "<Figure size 640x480 with 1 Axes>"
      ]
     },
     "metadata": {},
     "output_type": "display_data"
    }
   ],
   "source": [
    "data=np.array(observations_and_type[['percent_animal_overall','percent_plant_overall']])\n",
    "outer_labels=['Bryce N.P.', 'Great Smoky Mtns. N.P.', 'Yellowstone N.P.', 'Yosemite N.P.']\n",
    "inner_labels=[\"A\", \"P\", \"A\", \"P\", \"A\", \"P\", \"A\", \"P\",]\n",
    "\n",
    "size = 0.45\n",
    "cmap = plt.colormaps[\"tab20c\"]\n",
    "outer_colors = cmap(np.arange(4)*4)\n",
    "inner_colors = cmap([1,2, 5,6, 9,10, 13,14, 17,18])\n",
    "\n",
    "fig, ax = plt.subplots()\n",
    "ax.pie(data.sum(axis=1), radius=1, colors=outer_colors,\n",
    "       wedgeprops=dict(width=size, edgecolor='w'), labels=outer_labels, autopct='%.0f%%', pctdistance=0.85)\n",
    "\n",
    "ax.pie(data.flatten(), radius=1-size, colors=inner_colors,\n",
    "       wedgeprops=dict(width=size, edgecolor='w'), labels=inner_labels, labeldistance=0.6)\n",
    "plt.title(\"Percent of Observations by Park\")\n",
    "plt.show()"
   ]
  },
  {
   "cell_type": "code",
   "execution_count": 53,
   "metadata": {},
   "outputs": [
    {
     "data": {
      "text/html": [
       "<div>\n",
       "<style scoped>\n",
       "    .dataframe tbody tr th:only-of-type {\n",
       "        vertical-align: middle;\n",
       "    }\n",
       "\n",
       "    .dataframe tbody tr th {\n",
       "        vertical-align: top;\n",
       "    }\n",
       "\n",
       "    .dataframe thead th {\n",
       "        text-align: right;\n",
       "    }\n",
       "</style>\n",
       "<table border=\"1\" class=\"dataframe\">\n",
       "  <thead>\n",
       "    <tr style=\"text-align: right;\">\n",
       "      <th></th>\n",
       "      <th>park_name</th>\n",
       "      <th>animal</th>\n",
       "      <th>plant</th>\n",
       "      <th>percent_animal</th>\n",
       "      <th>percent_plant</th>\n",
       "    </tr>\n",
       "  </thead>\n",
       "  <tbody>\n",
       "    <tr>\n",
       "      <th>0</th>\n",
       "      <td>Bryce National Park</td>\n",
       "      <td>92595</td>\n",
       "      <td>455636</td>\n",
       "      <td>0.029356</td>\n",
       "      <td>0.144452</td>\n",
       "    </tr>\n",
       "    <tr>\n",
       "      <th>1</th>\n",
       "      <td>Great Smoky Mountains National Park</td>\n",
       "      <td>67910</td>\n",
       "      <td>342978</td>\n",
       "      <td>0.021530</td>\n",
       "      <td>0.108735</td>\n",
       "    </tr>\n",
       "    <tr>\n",
       "      <th>2</th>\n",
       "      <td>Yellowstone National Park</td>\n",
       "      <td>229758</td>\n",
       "      <td>1143841</td>\n",
       "      <td>0.072841</td>\n",
       "      <td>0.362635</td>\n",
       "    </tr>\n",
       "    <tr>\n",
       "      <th>3</th>\n",
       "      <td>Yosemite National Park</td>\n",
       "      <td>137187</td>\n",
       "      <td>684342</td>\n",
       "      <td>0.043493</td>\n",
       "      <td>0.216959</td>\n",
       "    </tr>\n",
       "  </tbody>\n",
       "</table>\n",
       "</div>"
      ],
      "text/plain": [
       "                             park_name  animal    plant  percent_animal  \\\n",
       "0                  Bryce National Park   92595   455636        0.029356   \n",
       "1  Great Smoky Mountains National Park   67910   342978        0.021530   \n",
       "2            Yellowstone National Park  229758  1143841        0.072841   \n",
       "3               Yosemite National Park  137187   684342        0.043493   \n",
       "\n",
       "   percent_plant  \n",
       "0       0.144452  \n",
       "1       0.108735  \n",
       "2       0.362635  \n",
       "3       0.216959  "
      ]
     },
     "execution_count": 53,
     "metadata": {},
     "output_type": "execute_result"
    }
   ],
   "source": [
    "observations_and_type = observations_and_type.reset_index()\n",
    "observations_and_type"
   ]
  },
  {
   "cell_type": "code",
   "execution_count": 54,
   "metadata": {},
   "outputs": [
    {
     "data": {
      "image/png": "[encoded data removed]",
      "text/plain": [
       "<Figure size 640x480 with 1 Axes>"
      ]
     },
     "metadata": {},
     "output_type": "display_data"
    },
    {
     "data": {
      "text/plain": [
       "<Figure size 640x480 with 0 Axes>"
      ]
     },
     "metadata": {},
     "output_type": "display_data"
    }
   ],
   "source": [
    "sns.scatterplot(data=observations_and_type, x='animal', y='plant', hue='park_name', palette=sns.color_palette(palette=['#3182BD', '#E6550D', '#31A354', '#756BB1']))\n",
    "plt.xlabel(\"Number of Animal Observations\")\n",
    "plt.ylabel(\"Number of Plant Observations\")\n",
    "\n",
    "model = sm.OLS.from_formula(\"plant ~ animal\", data=observations_and_type)\n",
    "results = model.fit()\n",
    "exp = results.predict(observations_and_type.animal)\n",
    "\n",
    "plt.plot(observations_and_type.animal, exp, color='gray', linestyle=':')\n",
    "\n",
    "cor_animal_plant, pval = stats.pearsonr(observations_and_type.animal, observations_and_type.plant)\n",
    "plt.suptitle(\"Observations of Plants vs. Animals\")\n",
    "plt.title(f\"r={cor_animal_plant}\\np={pval}\", size=8)\n",
    "\n",
    "plt.show()\n",
    "plt.clf()"
   ]
  },
  {
   "cell_type": "code",
   "execution_count": 62,
   "metadata": {},
   "outputs": [
    {
     "data": {
      "text/plain": [
       "Intercept    1054.567478\n",
       "animal          4.972185\n",
       "dtype: float64"
      ]
     },
     "execution_count": 62,
     "metadata": {},
     "output_type": "execute_result"
    }
   ],
   "source": [
    "results.params"
   ]
  },
  {
   "cell_type": "markdown",
   "metadata": {},
   "source": [
    "## Conclusions\n",
    "#### What is the distribution of conservation status for each category of species?\n",
    "+ The vast majority of species have *no* conservation status; that is, they are of no concern.\n",
    "    + 91.5% of all species are of no concern.\n",
    "    + Greater portions of plant life are in this category than animal life, with vasular and non-vascular plants both above 98%.\n",
    "    + Mammals have the smallest portion of species of no concern, at ~82.5%\n",
    "+ The next greatest conservation status is *species of concern*.\n",
    "    + 6.2% of all species are a species of conern.\n",
    "    + Mammals and birds are well-above this average amount.\n",
    "        + 12.4% of mammals are a species of conern.\n",
    "        + 13.9% of birds are a species of concern.\n",
    "+ Species that are *endangered* and *threatened* are the next greatest classifications, in order.\n",
    "    + Each covers approximately 1% of species.\n",
    "        + 1.1% are endangered.\n",
    "        + 1.0% are threatened.\n",
    "        + Mammals (3.4%) and fish (2.4%) make up the majority of endagered species.\n",
    "        + Fish (3.2%) and amphibians (2.5%) make up the majority of threatened species.\n",
    "+ Less than 0.2% of all species are considered *in recovery*\n",
    "    + Only mammals and birds have been given this status. \n",
    "#### Are certain types of species more likely to be placed under conservation statuses than others?\n",
    "+ Observationally, we see that mammals and birds are given some conservation status at a greater rate than all other types of species.\n",
    "+ Observationally, we see that plants are less likely to be given a conservation status than animals.\n",
    "+ To test if our observations are significatly different from what we could expect in the general population, we can apply a chi-square test.\n",
    "    + Since plants and animals likely face different challenges for their conservation statuses, let's consider separate chi-square test on the animals and the plants to assess the relationship between species and conservation status.\n",
    "1. Are animals more likely to face conservation status than plants?\n",
    "       \n",
    "|          | In Conservation | Not In Conservation |\n",
    "|:--------:|:---------------:|:-------------------:|\n",
    "|  Plant   |  51             |  4544               |\n",
    "|  Animal  |  129            |  819                |\n",
    "\n",
    "+ The p-value from our chi-square test for animals is 4.31e-86, which is *well* below the 0.05 threshold. This means we should reject the null hypothesis, and accept that, there is a statistically significant relationship between species classification as plant or animal, and conservation status. It is likely *not* coincidence that animals face conservation statuses at higer rates than plants.\n",
    "\n",
    "2. Are certain clssifications of animals more likely to face conservation status than others?\n",
    "       \n",
    "|          | In Conservation | Not In Conservation |\n",
    "|:--------:|:---------------:|:-------------------:|\n",
    "|  Ambibian   |  7   |  72   |\n",
    "|  Bird  |  75   |  413   |\n",
    "|  Fish  |  11   |  115   |\n",
    "|  Mammal  |  31  |  146   |\n",
    "|  Reptile  |  5   |  73   |\n",
    "\n",
    "+ The p-value from our chi-square test for animals is 0.0256, which is below the 0.05 threshold. This means we should reject the null hypothesis, and accept that, for animals, there is a statistically significant relationship between species type, and conservation status. It is likely *not* coincidence that birds and mammals face conservation statuses at higer rates than fish, amphibians, and reptiles.\n",
    "\n",
    "3. Are certain classifications of plant more likely to face conservation status than others?\n",
    "       \n",
    "|          | In Conservation | Not In Conservation |\n",
    "|:--------:|:---------------:|:-------------------:|\n",
    "|  Nonvascular Plant   |  5  |  328   |\n",
    "|  Vascular Plant  |  46     |  4216    |\n",
    "\n",
    "+ The p-value from our chi-square test for plants is 0.662, which is well above the 0.05 threshold. This means we should accept the null hypothesis; that is, for plants there is **NOT** a statistically significant relationship between species type, and conservation status.\n",
    "\n",
    "\n",
    "#### Which parks have the greatest abundance of life?\n",
    "+ Based on the number of total observations in each park, the rankings of abundance of life are...\n",
    "    1. Yellowstone, with 1373599 total observations. (44% of all observations)\n",
    "    2. Yosemite, with 821529 total observations (26% of all observations)\n",
    "    3. Bryce, with 548231 total observations (17% of all observations)\n",
    "    4. Great Smoky Mountains, with 410888 total observations (13% of all observations)\n",
    "+ In any given park, the ratio of plant to animal observations is near constant.\n",
    "    + Approximately 83.3% of all observations are of plant life.\n",
    "    + Approximately 16.6% of all observations are of animal life.\n",
    "    + Plants are nearly 5 times as abundant as animals.\n",
    "#### Is there a relationship between the abundance of plants and the abundance of animals in national parks?\n",
    "+ There is a near-perfect linear correlation between plant life and animal life.\n",
    "    + $p = a*4.972185 + 1054.567478$\n",
    "      + $p=$ the number of plant observations, and $a=$ the number of animal observations.\n",
    "    + This regression fits the data with a correlation coeficcient of $r=0.99993$\n",
    "       \n",
    "\n"
   ]
  }
 ],
 "metadata": {
  "kernelspec": {
   "display_name": "Python 3 (ipykernel)",
   "language": "python",
   "name": "python3"
  },
  "language_info": {
   "codemirror_mode": {
    "name": "ipython",
    "version": 3
   },
   "file_extension": ".py",
   "mimetype": "text/x-python",
   "name": "python",
   "nbconvert_exporter": "python",
   "pygments_lexer": "ipython3",
   "version": "3.10.12"
  }
 },
 "nbformat": 4,
 "nbformat_minor": 4
}
